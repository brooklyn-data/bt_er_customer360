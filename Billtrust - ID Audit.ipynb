{
 "cells": [
  {
   "cell_type": "code",
   "execution_count": 1,
   "id": "233424e9-f665-4af0-9820-934f5646da82",
   "metadata": {
    "tags": []
   },
   "outputs": [],
   "source": [
    "import pandas as pd\n",
    "\n",
    "from IPython.core.interactiveshell import InteractiveShell\n",
    "InteractiveShell.ast_node_interactivity = \"all\""
   ]
  },
  {
   "cell_type": "markdown",
   "id": "4230ba42-7919-4afa-81fc-33ad2e451272",
   "metadata": {},
   "source": [
    "## Salesforce"
   ]
  },
  {
   "cell_type": "code",
   "execution_count": 2,
   "id": "05c0f8c7-870b-4181-bc65-f5e1b6a4025d",
   "metadata": {
    "tags": []
   },
   "outputs": [],
   "source": [
    "salesforce1 = pd.read_csv('salesforce.raw.stg_salesforce__account.csv')"
   ]
  },
  {
   "cell_type": "code",
   "execution_count": 3,
   "id": "b15feb83-d533-4578-8e25-fa6923691e28",
   "metadata": {
    "tags": []
   },
   "outputs": [
    {
     "data": {
      "text/plain": [
       "(202357, 9)"
      ]
     },
     "execution_count": 3,
     "metadata": {},
     "output_type": "execute_result"
    },
    {
     "data": {
      "text/plain": [
       "202357"
      ]
     },
     "execution_count": 3,
     "metadata": {},
     "output_type": "execute_result"
    }
   ],
   "source": [
    "salesforce1.shape\n",
    "salesforce1.ACCOUNT_ID.nunique()"
   ]
  },
  {
   "cell_type": "markdown",
   "id": "319de9ee-2d6e-428f-bfff-8ed318fd32d9",
   "metadata": {},
   "source": [
    "Let's see if the raw data in Fivetran has more records than what we need"
   ]
  },
  {
   "cell_type": "code",
   "execution_count": 4,
   "id": "c14ad2ec-e136-451f-bc6b-906864425b86",
   "metadata": {
    "tags": []
   },
   "outputs": [
    {
     "name": "stderr",
     "output_type": "stream",
     "text": [
      "/var/folders/0g/ppby4y5x49q9vblv2453c8g40000gq/T/ipykernel_77216/3034199866.py:1: DtypeWarning: Columns (7,12) have mixed types. Specify dtype option on import or set low_memory=False.\n",
      "  salesforce0 = pd.read_csv('FIVETRAN.SALESFORCE.ACCOUNT.csv')\n"
     ]
    }
   ],
   "source": [
    "salesforce0 = pd.read_csv('FIVETRAN.SALESFORCE.ACCOUNT.csv')"
   ]
  },
  {
   "cell_type": "code",
   "execution_count": 5,
   "id": "42f45439-e585-477c-9cff-926bf3aa359c",
   "metadata": {
    "tags": []
   },
   "outputs": [
    {
     "data": {
      "text/plain": [
       "(209769, 13)"
      ]
     },
     "execution_count": 5,
     "metadata": {},
     "output_type": "execute_result"
    },
    {
     "data": {
      "text/plain": [
       "209769"
      ]
     },
     "execution_count": 5,
     "metadata": {},
     "output_type": "execute_result"
    }
   ],
   "source": [
    "salesforce0.shape\n",
    "salesforce0.ID.nunique()"
   ]
  },
  {
   "cell_type": "code",
   "execution_count": 6,
   "id": "823f528f-a469-4f4e-849b-4e15924451e2",
   "metadata": {
    "tags": []
   },
   "outputs": [
    {
     "data": {
      "text/plain": [
       "7412"
      ]
     },
     "execution_count": 6,
     "metadata": {},
     "output_type": "execute_result"
    }
   ],
   "source": [
    "salesforce0.ID.nunique() - salesforce1.ACCOUNT_ID.nunique()"
   ]
  },
  {
   "cell_type": "markdown",
   "id": "dcc88896-0b96-48e0-bc47-ede046be64fe",
   "metadata": {},
   "source": [
    "There are 7,412 accounts missing in the staging table. Looking at the staging view code, the filtered rows are those that have the `is_deleted` flag, so we can focus on the staging view and ignore (and remove) the raw data from Fivetran"
   ]
  },
  {
   "cell_type": "code",
   "execution_count": 7,
   "id": "44bb1fbc-4a7a-4c36-8e1b-557aac7a17ef",
   "metadata": {
    "tags": []
   },
   "outputs": [],
   "source": [
    "del salesforce0"
   ]
  },
  {
   "cell_type": "code",
   "execution_count": 8,
   "id": "5b957afa-feb0-432f-96be-51278d14e7e0",
   "metadata": {
    "tags": []
   },
   "outputs": [],
   "source": [
    "salesforce1.INVOICING_CUSTOMER_ID = salesforce1.INVOICING_CUSTOMER_ID.astype('Int64')"
   ]
  },
  {
   "cell_type": "markdown",
   "id": "6ce16301-d5a0-4050-9502-bd264de36edb",
   "metadata": {},
   "source": [
    "Find if there are any CSR IDs that are used in multiple accounts."
   ]
  },
  {
   "cell_type": "code",
   "execution_count": 9,
   "id": "0db71645-92c2-4371-8127-16913aba5830",
   "metadata": {
    "tags": []
   },
   "outputs": [
    {
     "data": {
      "text/plain": [
       "[2167, 2292, 2546, 3415]"
      ]
     },
     "execution_count": 9,
     "metadata": {},
     "output_type": "execute_result"
    }
   ],
   "source": [
    "salesforce1_csr_id_counts = salesforce1[salesforce1.INVOICING_CUSTOMER_ID.notnull()].groupby('INVOICING_CUSTOMER_ID').ACCOUNT_ID.count()\n",
    "salesforce1_csr_ids_multiple_accounts = salesforce1_csr_id_counts[salesforce1_csr_id_counts > 1].index.tolist()\n",
    "salesforce1_csr_ids_multiple_accounts"
   ]
  },
  {
   "cell_type": "markdown",
   "id": "4778f05a-3366-4a31-a595-e8c277cc88ad",
   "metadata": {},
   "source": [
    "There are four. Let's take a look at them."
   ]
  },
  {
   "cell_type": "code",
   "execution_count": 10,
   "id": "6eb924e1-b373-4c82-83c9-134f2d501c48",
   "metadata": {
    "tags": []
   },
   "outputs": [
    {
     "data": {
      "text/html": [
       "<div>\n",
       "<style scoped>\n",
       "    .dataframe tbody tr th:only-of-type {\n",
       "        vertical-align: middle;\n",
       "    }\n",
       "\n",
       "    .dataframe tbody tr th {\n",
       "        vertical-align: top;\n",
       "    }\n",
       "\n",
       "    .dataframe thead th {\n",
       "        text-align: right;\n",
       "    }\n",
       "</style>\n",
       "<table border=\"1\" class=\"dataframe\">\n",
       "  <thead>\n",
       "    <tr style=\"text-align: right;\">\n",
       "      <th></th>\n",
       "      <th>ACCOUNT_ID</th>\n",
       "      <th>ACCOUNT_NAME</th>\n",
       "      <th>ACCOUNT_TYPE</th>\n",
       "      <th>REGION</th>\n",
       "      <th>INVOICING_CUSTOMER_NAME</th>\n",
       "      <th>INVOICING_CUSTOMER_ID</th>\n",
       "      <th>BILLING_ID</th>\n",
       "      <th>PARENT_ACCOUNT_ID</th>\n",
       "      <th>TOP_LEVEL_PARENT_ACCOUNT_ID</th>\n",
       "    </tr>\n",
       "  </thead>\n",
       "  <tbody>\n",
       "    <tr>\n",
       "      <th>6197</th>\n",
       "      <td>001G000001IJ6FxIAL</td>\n",
       "      <td>Ingram Micro Mobility</td>\n",
       "      <td>Customer</td>\n",
       "      <td>NORTH_AMERICA</td>\n",
       "      <td>INGRAMMICROMOBILITY</td>\n",
       "      <td>2167</td>\n",
       "      <td>INGRAMMICROMOBILITY</td>\n",
       "      <td>001A000000IkvTDIAZ</td>\n",
       "      <td>001A000000QqxjIIAR</td>\n",
       "    </tr>\n",
       "    <tr>\n",
       "      <th>76206</th>\n",
       "      <td>001G000000fva0SIAQ</td>\n",
       "      <td>CEVA Contract Logistics U.S., Inc.</td>\n",
       "      <td>Customer</td>\n",
       "      <td>NORTH_AMERICA</td>\n",
       "      <td>NaN</td>\n",
       "      <td>2167</td>\n",
       "      <td>NaN</td>\n",
       "      <td>0018Y00002y7NLWQA2</td>\n",
       "      <td>0018Y00002tiAp4QAE</td>\n",
       "    </tr>\n",
       "    <tr>\n",
       "      <th>6984</th>\n",
       "      <td>0011600001mq1YFAAY</td>\n",
       "      <td>Werner Electric Minnesota</td>\n",
       "      <td>Customer</td>\n",
       "      <td>NORTH_AMERICA</td>\n",
       "      <td>WERNERMN</td>\n",
       "      <td>2292</td>\n",
       "      <td>VANMETERINDUSTRIAL</td>\n",
       "      <td>001A000000Iku09IAB</td>\n",
       "      <td>001A000000Iku09IAB</td>\n",
       "    </tr>\n",
       "    <tr>\n",
       "      <th>88903</th>\n",
       "      <td>001A000000Iku09IAB</td>\n",
       "      <td>Van Meter Inc.</td>\n",
       "      <td>Customer</td>\n",
       "      <td>NORTH_AMERICA</td>\n",
       "      <td>VANMETERINC</td>\n",
       "      <td>2292</td>\n",
       "      <td>VANMETERINDUSTRIAL</td>\n",
       "      <td>NaN</td>\n",
       "      <td>001A000000Iku09IAB</td>\n",
       "    </tr>\n",
       "    <tr>\n",
       "      <th>94558</th>\n",
       "      <td>0011M00002ZFX0LQAX</td>\n",
       "      <td>Altorfer Industries</td>\n",
       "      <td>Customer</td>\n",
       "      <td>NORTH_AMERICA</td>\n",
       "      <td>ALTORFERINDUSTRIES</td>\n",
       "      <td>2546</td>\n",
       "      <td>ALTORFERINDUSTRIES</td>\n",
       "      <td>001A000000JZHnZIAX</td>\n",
       "      <td>001A000000JZHnZIAX</td>\n",
       "    </tr>\n",
       "    <tr>\n",
       "      <th>149190</th>\n",
       "      <td>001A000000JZHnZIAX</td>\n",
       "      <td>Altorfer Inc</td>\n",
       "      <td>Customer</td>\n",
       "      <td>NORTH_AMERICA</td>\n",
       "      <td>ALTORFER</td>\n",
       "      <td>2546</td>\n",
       "      <td>ALTORFER</td>\n",
       "      <td>NaN</td>\n",
       "      <td>001A000000JZHnZIAX</td>\n",
       "    </tr>\n",
       "    <tr>\n",
       "      <th>122473</th>\n",
       "      <td>001A000000IkuO6IAJ</td>\n",
       "      <td>Thrifty Supply Company</td>\n",
       "      <td>Customer</td>\n",
       "      <td>NORTH_AMERICA</td>\n",
       "      <td>NaN</td>\n",
       "      <td>3415</td>\n",
       "      <td>THRIFTYSUPPLY</td>\n",
       "      <td>0011M00002RJJUcQAP</td>\n",
       "      <td>0011M00002RJJUcQAP</td>\n",
       "    </tr>\n",
       "    <tr>\n",
       "      <th>134772</th>\n",
       "      <td>0011M00002RJJUcQAP</td>\n",
       "      <td>Glacier Supply Group</td>\n",
       "      <td>Customer</td>\n",
       "      <td>NORTH_AMERICA</td>\n",
       "      <td>THRIFTYSUPPLY</td>\n",
       "      <td>3415</td>\n",
       "      <td>THRIFTYSUPPLY</td>\n",
       "      <td>NaN</td>\n",
       "      <td>0011M00002RJJUcQAP</td>\n",
       "    </tr>\n",
       "  </tbody>\n",
       "</table>\n",
       "</div>"
      ],
      "text/plain": [
       "                ACCOUNT_ID                        ACCOUNT_NAME ACCOUNT_TYPE  \\\n",
       "6197    001G000001IJ6FxIAL               Ingram Micro Mobility     Customer   \n",
       "76206   001G000000fva0SIAQ  CEVA Contract Logistics U.S., Inc.     Customer   \n",
       "6984    0011600001mq1YFAAY           Werner Electric Minnesota     Customer   \n",
       "88903   001A000000Iku09IAB                      Van Meter Inc.     Customer   \n",
       "94558   0011M00002ZFX0LQAX                 Altorfer Industries     Customer   \n",
       "149190  001A000000JZHnZIAX                        Altorfer Inc     Customer   \n",
       "122473  001A000000IkuO6IAJ              Thrifty Supply Company     Customer   \n",
       "134772  0011M00002RJJUcQAP                Glacier Supply Group     Customer   \n",
       "\n",
       "               REGION INVOICING_CUSTOMER_NAME  INVOICING_CUSTOMER_ID  \\\n",
       "6197    NORTH_AMERICA     INGRAMMICROMOBILITY                   2167   \n",
       "76206   NORTH_AMERICA                     NaN                   2167   \n",
       "6984    NORTH_AMERICA                WERNERMN                   2292   \n",
       "88903   NORTH_AMERICA             VANMETERINC                   2292   \n",
       "94558   NORTH_AMERICA      ALTORFERINDUSTRIES                   2546   \n",
       "149190  NORTH_AMERICA                ALTORFER                   2546   \n",
       "122473  NORTH_AMERICA                     NaN                   3415   \n",
       "134772  NORTH_AMERICA           THRIFTYSUPPLY                   3415   \n",
       "\n",
       "                 BILLING_ID   PARENT_ACCOUNT_ID TOP_LEVEL_PARENT_ACCOUNT_ID  \n",
       "6197    INGRAMMICROMOBILITY  001A000000IkvTDIAZ          001A000000QqxjIIAR  \n",
       "76206                   NaN  0018Y00002y7NLWQA2          0018Y00002tiAp4QAE  \n",
       "6984     VANMETERINDUSTRIAL  001A000000Iku09IAB          001A000000Iku09IAB  \n",
       "88903    VANMETERINDUSTRIAL                 NaN          001A000000Iku09IAB  \n",
       "94558    ALTORFERINDUSTRIES  001A000000JZHnZIAX          001A000000JZHnZIAX  \n",
       "149190             ALTORFER                 NaN          001A000000JZHnZIAX  \n",
       "122473        THRIFTYSUPPLY  0011M00002RJJUcQAP          0011M00002RJJUcQAP  \n",
       "134772        THRIFTYSUPPLY                 NaN          0011M00002RJJUcQAP  "
      ]
     },
     "execution_count": 10,
     "metadata": {},
     "output_type": "execute_result"
    }
   ],
   "source": [
    "salesforce1[salesforce1.INVOICING_CUSTOMER_ID.isin(salesforce1_csr_ids_multiple_accounts)].sort_values('INVOICING_CUSTOMER_ID')"
   ]
  },
  {
   "cell_type": "markdown",
   "id": "ea9f3bb7-545d-4795-93e9-45136b64aa66",
   "metadata": {},
   "source": [
    "Let's look at the Salesforce account types that have CSR IDs:"
   ]
  },
  {
   "cell_type": "code",
   "execution_count": 11,
   "id": "61e4d521-937d-4d64-a9e7-b581744a5fec",
   "metadata": {
    "tags": []
   },
   "outputs": [
    {
     "data": {
      "text/plain": [
       "(2454, 9)"
      ]
     },
     "execution_count": 11,
     "metadata": {},
     "output_type": "execute_result"
    },
    {
     "data": {
      "text/plain": [
       "2454"
      ]
     },
     "execution_count": 11,
     "metadata": {},
     "output_type": "execute_result"
    },
    {
     "data": {
      "text/plain": [
       "ACCOUNT_TYPE\n",
       "Customer                          1424\n",
       "Dead                                35\n",
       "Decision Elsewhere                   5\n",
       "Division of Client                 131\n",
       "Inactive Client                    658\n",
       "Lost                                42\n",
       "MQL                                  1\n",
       "Other                               15\n",
       "Parent of Client                     6\n",
       "Partner                              5\n",
       "Partner Client                       3\n",
       "Partner Client Using Billtrust      14\n",
       "Partner Dead                         1\n",
       "Partner Prospect                     3\n",
       "Partner RAW                          1\n",
       "Partner Suspect                      1\n",
       "Prospect                            51\n",
       "RAW                                 24\n",
       "SAL                                 29\n",
       "SQL                                  5\n",
       "Name: ACCOUNT_ID, dtype: int64"
      ]
     },
     "execution_count": 11,
     "metadata": {},
     "output_type": "execute_result"
    }
   ],
   "source": [
    "salesforce1[salesforce1.INVOICING_CUSTOMER_ID.notnull()].shape\n",
    "salesforce1[salesforce1.INVOICING_CUSTOMER_ID.notnull()].ACCOUNT_ID.nunique()\n",
    "salesforce1[salesforce1.INVOICING_CUSTOMER_ID.notnull()].groupby('ACCOUNT_TYPE').ACCOUNT_ID.count()"
   ]
  },
  {
   "cell_type": "markdown",
   "id": "b525e7d2-a231-4d95-94c0-f6cdc6d5fcc8",
   "metadata": {},
   "source": [
    "2454 of the Salesforce accounts have a CSR ID. Quite a few of them are not marked as a Customer (or Division of Client). The majority of them are inactive clients, but there's a long tail of other types."
   ]
  },
  {
   "cell_type": "markdown",
   "id": "0265c678-75c9-431d-b43e-43495f8bc9a9",
   "metadata": {},
   "source": [
    "## CSR"
   ]
  },
  {
   "cell_type": "code",
   "execution_count": 23,
   "id": "1d81579c-2656-4142-8649-06089548c23a",
   "metadata": {
    "tags": []
   },
   "outputs": [],
   "source": [
    "csr_1 = pd.read_csv('CSR_Stack1.csv')\n",
    "csr_2 = pd.read_csv('CSR_Stack2.csv')"
   ]
  },
  {
   "cell_type": "code",
   "execution_count": 24,
   "id": "a1da810a-7d76-4f6f-81a1-a34b357f5346",
   "metadata": {
    "tags": []
   },
   "outputs": [
    {
     "data": {
      "text/plain": [
       "(3509, 193)"
      ]
     },
     "execution_count": 24,
     "metadata": {},
     "output_type": "execute_result"
    },
    {
     "data": {
      "text/plain": [
       "(729, 193)"
      ]
     },
     "execution_count": 24,
     "metadata": {},
     "output_type": "execute_result"
    }
   ],
   "source": [
    "csr_1.shape\n",
    "csr_2.shape"
   ]
  },
  {
   "cell_type": "code",
   "execution_count": 25,
   "id": "3b95e761-0be8-418f-a15b-81989246d092",
   "metadata": {
    "tags": []
   },
   "outputs": [
    {
     "data": {
      "text/plain": [
       "True"
      ]
     },
     "execution_count": 25,
     "metadata": {},
     "output_type": "execute_result"
    }
   ],
   "source": [
    "csr_1.columns.tolist() == csr_2.columns.tolist()"
   ]
  },
  {
   "cell_type": "code",
   "execution_count": 26,
   "id": "ea139638-21cd-4d92-baf0-fccee612cdeb",
   "metadata": {
    "tags": []
   },
   "outputs": [],
   "source": [
    "csr = pd.concat([csr_1, csr_2])"
   ]
  },
  {
   "cell_type": "code",
   "execution_count": 27,
   "id": "d5861fd9-c1d6-4582-a896-f1360d8080c5",
   "metadata": {
    "tags": []
   },
   "outputs": [],
   "source": [
    "csr = csr[['CustomerId', 'UserName', 'EmailPrimary', 'CustomerStatus']]"
   ]
  },
  {
   "cell_type": "code",
   "execution_count": 28,
   "id": "1b8120ab-9d60-4d66-b58c-221d301403c5",
   "metadata": {
    "tags": []
   },
   "outputs": [],
   "source": [
    "del csr_1, csr_2"
   ]
  },
  {
   "cell_type": "code",
   "execution_count": 29,
   "id": "afdde353-c6ac-4f01-a811-d4eecb204d6d",
   "metadata": {
    "tags": []
   },
   "outputs": [
    {
     "data": {
      "text/plain": [
       "(4238, 4)"
      ]
     },
     "execution_count": 29,
     "metadata": {},
     "output_type": "execute_result"
    },
    {
     "data": {
      "text/plain": [
       "4236"
      ]
     },
     "execution_count": 29,
     "metadata": {},
     "output_type": "execute_result"
    },
    {
     "data": {
      "text/html": [
       "<div>\n",
       "<style scoped>\n",
       "    .dataframe tbody tr th:only-of-type {\n",
       "        vertical-align: middle;\n",
       "    }\n",
       "\n",
       "    .dataframe tbody tr th {\n",
       "        vertical-align: top;\n",
       "    }\n",
       "\n",
       "    .dataframe thead th {\n",
       "        text-align: right;\n",
       "    }\n",
       "</style>\n",
       "<table border=\"1\" class=\"dataframe\">\n",
       "  <thead>\n",
       "    <tr style=\"text-align: right;\">\n",
       "      <th></th>\n",
       "      <th>CustomerId</th>\n",
       "      <th>UserName</th>\n",
       "      <th>EmailPrimary</th>\n",
       "      <th>CustomerStatus</th>\n",
       "    </tr>\n",
       "  </thead>\n",
       "  <tbody>\n",
       "    <tr>\n",
       "      <th>0</th>\n",
       "      <td>-3015</td>\n",
       "      <td>FEDEX</td>\n",
       "      <td>Billtrust_FXF_Contact@corp.ds.fedex.com</td>\n",
       "      <td>99</td>\n",
       "    </tr>\n",
       "    <tr>\n",
       "      <th>1</th>\n",
       "      <td>-2706</td>\n",
       "      <td>JIMESTACK2B2C</td>\n",
       "      <td>jime@billtrust.com</td>\n",
       "      <td>99</td>\n",
       "    </tr>\n",
       "    <tr>\n",
       "      <th>2</th>\n",
       "      <td>-2704</td>\n",
       "      <td>JIMESTACK2B2B</td>\n",
       "      <td>jime@billtrust.com</td>\n",
       "      <td>99</td>\n",
       "    </tr>\n",
       "    <tr>\n",
       "      <th>3</th>\n",
       "      <td>-2702</td>\n",
       "      <td>STAPLESUS</td>\n",
       "      <td>karen.orris@staples.com</td>\n",
       "      <td>99</td>\n",
       "    </tr>\n",
       "    <tr>\n",
       "      <th>4</th>\n",
       "      <td>-2666</td>\n",
       "      <td>NORTHOFBOSTON</td>\n",
       "      <td>nroy@eagletribune.com</td>\n",
       "      <td>99</td>\n",
       "    </tr>\n",
       "  </tbody>\n",
       "</table>\n",
       "</div>"
      ],
      "text/plain": [
       "   CustomerId       UserName                             EmailPrimary  \\\n",
       "0       -3015          FEDEX  Billtrust_FXF_Contact@corp.ds.fedex.com   \n",
       "1       -2706  JIMESTACK2B2C                       jime@billtrust.com   \n",
       "2       -2704  JIMESTACK2B2B                       jime@billtrust.com   \n",
       "3       -2702      STAPLESUS                  karen.orris@staples.com   \n",
       "4       -2666  NORTHOFBOSTON                    nroy@eagletribune.com   \n",
       "\n",
       "   CustomerStatus  \n",
       "0              99  \n",
       "1              99  \n",
       "2              99  \n",
       "3              99  \n",
       "4              99  "
      ]
     },
     "execution_count": 29,
     "metadata": {},
     "output_type": "execute_result"
    }
   ],
   "source": [
    "csr.shape\n",
    "csr.CustomerId.nunique()\n",
    "csr.head()"
   ]
  },
  {
   "cell_type": "code",
   "execution_count": 30,
   "id": "79525415-973f-49f8-b2c8-3895e067be9b",
   "metadata": {
    "tags": []
   },
   "outputs": [],
   "source": [
    "csr['CustomerId'] = csr.CustomerId.astype('Int64')"
   ]
  },
  {
   "cell_type": "code",
   "execution_count": 31,
   "id": "4dd93663-1e6f-4fe6-bfd9-9daa16f253c6",
   "metadata": {
    "tags": []
   },
   "outputs": [
    {
     "data": {
      "text/plain": [
       "(202357, 9)"
      ]
     },
     "execution_count": 31,
     "metadata": {},
     "output_type": "execute_result"
    },
    {
     "data": {
      "text/plain": [
       "202357"
      ]
     },
     "execution_count": 31,
     "metadata": {},
     "output_type": "execute_result"
    },
    {
     "data": {
      "text/plain": [
       "202357"
      ]
     },
     "execution_count": 31,
     "metadata": {},
     "output_type": "execute_result"
    }
   ],
   "source": [
    "salesforce1.shape\n",
    "salesforce1.ACCOUNT_ID.count()\n",
    "salesforce1.ACCOUNT_ID.nunique()"
   ]
  },
  {
   "cell_type": "code",
   "execution_count": 32,
   "id": "f2c3a97b-6a93-4c3f-bf23-0111266a1394",
   "metadata": {
    "tags": []
   },
   "outputs": [
    {
     "data": {
      "text/plain": [
       "(4238, 4)"
      ]
     },
     "execution_count": 32,
     "metadata": {},
     "output_type": "execute_result"
    },
    {
     "data": {
      "text/plain": [
       "4238"
      ]
     },
     "execution_count": 32,
     "metadata": {},
     "output_type": "execute_result"
    },
    {
     "data": {
      "text/plain": [
       "4236"
      ]
     },
     "execution_count": 32,
     "metadata": {},
     "output_type": "execute_result"
    },
    {
     "data": {
      "text/plain": [
       "2"
      ]
     },
     "execution_count": 32,
     "metadata": {},
     "output_type": "execute_result"
    }
   ],
   "source": [
    "csr.shape\n",
    "csr.CustomerId.count()\n",
    "csr.CustomerId.nunique()\n",
    "\n",
    "csr.CustomerId.count() - csr.CustomerId.nunique()"
   ]
  },
  {
   "cell_type": "markdown",
   "id": "b45fe50c-1d8e-4c79-bff6-f819d0e60f47",
   "metadata": {},
   "source": [
    "Since there are 2 more rows than unique CSR IDs, some IDs are duplicated. Let's find them:"
   ]
  },
  {
   "cell_type": "code",
   "execution_count": 33,
   "id": "17f56950-3c83-45e5-8cc2-855280419ebe",
   "metadata": {
    "tags": []
   },
   "outputs": [
    {
     "data": {
      "text/html": [
       "<div>\n",
       "<style scoped>\n",
       "    .dataframe tbody tr th:only-of-type {\n",
       "        vertical-align: middle;\n",
       "    }\n",
       "\n",
       "    .dataframe tbody tr th {\n",
       "        vertical-align: top;\n",
       "    }\n",
       "\n",
       "    .dataframe thead th {\n",
       "        text-align: right;\n",
       "    }\n",
       "</style>\n",
       "<table border=\"1\" class=\"dataframe\">\n",
       "  <thead>\n",
       "    <tr style=\"text-align: right;\">\n",
       "      <th></th>\n",
       "      <th>CustomerId</th>\n",
       "      <th>UserName</th>\n",
       "      <th>EmailPrimary</th>\n",
       "      <th>CustomerStatus</th>\n",
       "    </tr>\n",
       "  </thead>\n",
       "  <tbody>\n",
       "    <tr>\n",
       "      <th>445</th>\n",
       "      <td>500</td>\n",
       "      <td>BILLTRUST</td>\n",
       "      <td>avigotito@billtrust.com</td>\n",
       "      <td>5</td>\n",
       "    </tr>\n",
       "    <tr>\n",
       "      <th>0</th>\n",
       "      <td>500</td>\n",
       "      <td>BILLTRUST3</td>\n",
       "      <td>avigotito@billtrust.com</td>\n",
       "      <td>5</td>\n",
       "    </tr>\n",
       "    <tr>\n",
       "      <th>639</th>\n",
       "      <td>698</td>\n",
       "      <td>FACTORSYSTEMS</td>\n",
       "      <td>billing@billtrust.com</td>\n",
       "      <td>5</td>\n",
       "    </tr>\n",
       "    <tr>\n",
       "      <th>3</th>\n",
       "      <td>698</td>\n",
       "      <td>FACTORSYSTEMS</td>\n",
       "      <td>btarteam@billtrust.com</td>\n",
       "      <td>5</td>\n",
       "    </tr>\n",
       "  </tbody>\n",
       "</table>\n",
       "</div>"
      ],
      "text/plain": [
       "     CustomerId       UserName             EmailPrimary  CustomerStatus\n",
       "445         500      BILLTRUST  avigotito@billtrust.com               5\n",
       "0           500     BILLTRUST3  avigotito@billtrust.com               5\n",
       "639         698  FACTORSYSTEMS    billing@billtrust.com               5\n",
       "3           698  FACTORSYSTEMS   btarteam@billtrust.com               5"
      ]
     },
     "execution_count": 33,
     "metadata": {},
     "output_type": "execute_result"
    }
   ],
   "source": [
    "csr_num_ids = csr.groupby('CustomerId').CustomerId.count()\n",
    "with pd.option_context('display.max_rows', None,):\n",
    "    csr[csr.CustomerId.isin(csr_num_ids[csr_num_ids > 1].index.tolist())].sort_values('CustomerId')"
   ]
  },
  {
   "cell_type": "code",
   "execution_count": 34,
   "id": "a1e51319-c2d1-4d64-8a9b-4af49d1853b8",
   "metadata": {
    "tags": []
   },
   "outputs": [
    {
     "data": {
      "text/plain": [
       "CustomerStatus\n",
       "1        57\n",
       "5      2731\n",
       "99     1286\n",
       "111     162\n",
       "Name: CustomerId, dtype: int64"
      ]
     },
     "execution_count": 34,
     "metadata": {},
     "output_type": "execute_result"
    }
   ],
   "source": [
    "csr.groupby('CustomerStatus').CustomerId.nunique()"
   ]
  },
  {
   "cell_type": "markdown",
   "id": "2ecaec42-3492-4f29-9e6d-e21ba9f6a7c2",
   "metadata": {},
   "source": [
    "Same, but looking at negative CustomerIDs"
   ]
  },
  {
   "cell_type": "code",
   "execution_count": 35,
   "id": "3fb4a719-4b7d-4aed-8bfa-2338801be3c9",
   "metadata": {
    "tags": []
   },
   "outputs": [],
   "source": [
    "csr['CustomerIdAbs'] = csr.CustomerId.abs() "
   ]
  },
  {
   "cell_type": "code",
   "execution_count": 36,
   "id": "ea2568d3-c70d-4c88-8d50-1d6372a69861",
   "metadata": {
    "tags": []
   },
   "outputs": [
    {
     "data": {
      "text/plain": [
       "37"
      ]
     },
     "execution_count": 36,
     "metadata": {},
     "output_type": "execute_result"
    },
    {
     "data": {
      "text/html": [
       "<div>\n",
       "<style scoped>\n",
       "    .dataframe tbody tr th:only-of-type {\n",
       "        vertical-align: middle;\n",
       "    }\n",
       "\n",
       "    .dataframe tbody tr th {\n",
       "        vertical-align: top;\n",
       "    }\n",
       "\n",
       "    .dataframe thead th {\n",
       "        text-align: right;\n",
       "    }\n",
       "</style>\n",
       "<table border=\"1\" class=\"dataframe\">\n",
       "  <thead>\n",
       "    <tr style=\"text-align: right;\">\n",
       "      <th></th>\n",
       "      <th>CustomerId</th>\n",
       "      <th>UserName</th>\n",
       "      <th>EmailPrimary</th>\n",
       "      <th>CustomerStatus</th>\n",
       "      <th>CustomerIdAbs</th>\n",
       "    </tr>\n",
       "  </thead>\n",
       "  <tbody>\n",
       "    <tr>\n",
       "      <th>445</th>\n",
       "      <td>500</td>\n",
       "      <td>BILLTRUST</td>\n",
       "      <td>avigotito@billtrust.com</td>\n",
       "      <td>5</td>\n",
       "      <td>500</td>\n",
       "    </tr>\n",
       "    <tr>\n",
       "      <th>0</th>\n",
       "      <td>500</td>\n",
       "      <td>BILLTRUST3</td>\n",
       "      <td>avigotito@billtrust.com</td>\n",
       "      <td>5</td>\n",
       "      <td>500</td>\n",
       "    </tr>\n",
       "    <tr>\n",
       "      <th>1</th>\n",
       "      <td>569</td>\n",
       "      <td>METROCLUB</td>\n",
       "      <td>ttesto@metroclub.org</td>\n",
       "      <td>5</td>\n",
       "      <td>569</td>\n",
       "    </tr>\n",
       "    <tr>\n",
       "      <th>34</th>\n",
       "      <td>-569</td>\n",
       "      <td>METROCLUB</td>\n",
       "      <td>ttesto@metroclub.org</td>\n",
       "      <td>99</td>\n",
       "      <td>569</td>\n",
       "    </tr>\n",
       "    <tr>\n",
       "      <th>2</th>\n",
       "      <td>688</td>\n",
       "      <td>UNITEDTILE</td>\n",
       "      <td>barb@unitedtile.com</td>\n",
       "      <td>5</td>\n",
       "      <td>688</td>\n",
       "    </tr>\n",
       "    <tr>\n",
       "      <th>33</th>\n",
       "      <td>-688</td>\n",
       "      <td>UNITEDTILE</td>\n",
       "      <td>barb@unitedtile.com</td>\n",
       "      <td>99</td>\n",
       "      <td>688</td>\n",
       "    </tr>\n",
       "    <tr>\n",
       "      <th>3</th>\n",
       "      <td>698</td>\n",
       "      <td>FACTORSYSTEMS</td>\n",
       "      <td>btarteam@billtrust.com</td>\n",
       "      <td>5</td>\n",
       "      <td>698</td>\n",
       "    </tr>\n",
       "    <tr>\n",
       "      <th>639</th>\n",
       "      <td>698</td>\n",
       "      <td>FACTORSYSTEMS</td>\n",
       "      <td>billing@billtrust.com</td>\n",
       "      <td>5</td>\n",
       "      <td>698</td>\n",
       "    </tr>\n",
       "    <tr>\n",
       "      <th>4</th>\n",
       "      <td>862</td>\n",
       "      <td>CHIQUITA</td>\n",
       "      <td>mlocke@chiquita.com</td>\n",
       "      <td>5</td>\n",
       "      <td>862</td>\n",
       "    </tr>\n",
       "    <tr>\n",
       "      <th>32</th>\n",
       "      <td>-862</td>\n",
       "      <td>CHIQUITA</td>\n",
       "      <td>mlocke@chiquita.com</td>\n",
       "      <td>99</td>\n",
       "      <td>862</td>\n",
       "    </tr>\n",
       "    <tr>\n",
       "      <th>5</th>\n",
       "      <td>946</td>\n",
       "      <td>FRESHEXPRESS</td>\n",
       "      <td>mloker@chiquita.com</td>\n",
       "      <td>5</td>\n",
       "      <td>946</td>\n",
       "    </tr>\n",
       "    <tr>\n",
       "      <th>31</th>\n",
       "      <td>-946</td>\n",
       "      <td>FRESHEXPRESS</td>\n",
       "      <td>mloker@chiquita.com</td>\n",
       "      <td>99</td>\n",
       "      <td>946</td>\n",
       "    </tr>\n",
       "    <tr>\n",
       "      <th>6</th>\n",
       "      <td>947</td>\n",
       "      <td>FRUPAC</td>\n",
       "      <td>mloker@chiquita.com</td>\n",
       "      <td>5</td>\n",
       "      <td>947</td>\n",
       "    </tr>\n",
       "    <tr>\n",
       "      <th>30</th>\n",
       "      <td>-947</td>\n",
       "      <td>FRUPAC</td>\n",
       "      <td>mloker@chiquita.com</td>\n",
       "      <td>99</td>\n",
       "      <td>947</td>\n",
       "    </tr>\n",
       "    <tr>\n",
       "      <th>7</th>\n",
       "      <td>948</td>\n",
       "      <td>PFI</td>\n",
       "      <td>mloker@chiquita.com</td>\n",
       "      <td>5</td>\n",
       "      <td>948</td>\n",
       "    </tr>\n",
       "    <tr>\n",
       "      <th>29</th>\n",
       "      <td>-948</td>\n",
       "      <td>PFI</td>\n",
       "      <td>mloker@chiquita.com</td>\n",
       "      <td>99</td>\n",
       "      <td>948</td>\n",
       "    </tr>\n",
       "    <tr>\n",
       "      <th>8</th>\n",
       "      <td>1200</td>\n",
       "      <td>EAGLETRIBUNE</td>\n",
       "      <td>nroy@eagletribune.com</td>\n",
       "      <td>5</td>\n",
       "      <td>1200</td>\n",
       "    </tr>\n",
       "    <tr>\n",
       "      <th>28</th>\n",
       "      <td>-1200</td>\n",
       "      <td>EAGLETRIBUNE</td>\n",
       "      <td>nroy@eagletribune.com</td>\n",
       "      <td>99</td>\n",
       "      <td>1200</td>\n",
       "    </tr>\n",
       "    <tr>\n",
       "      <th>9</th>\n",
       "      <td>1222</td>\n",
       "      <td>AUGUSTASPORTSWEAR</td>\n",
       "      <td>jdube@augustasportswear.com</td>\n",
       "      <td>5</td>\n",
       "      <td>1222</td>\n",
       "    </tr>\n",
       "    <tr>\n",
       "      <th>27</th>\n",
       "      <td>-1222</td>\n",
       "      <td>AUGUSTASPORTSWEAR</td>\n",
       "      <td>jdube@augustasportswear.com</td>\n",
       "      <td>99</td>\n",
       "      <td>1222</td>\n",
       "    </tr>\n",
       "    <tr>\n",
       "      <th>10</th>\n",
       "      <td>1327</td>\n",
       "      <td>LOYDSELECTRIC</td>\n",
       "      <td>dfroeschle@loydselectric.com</td>\n",
       "      <td>5</td>\n",
       "      <td>1327</td>\n",
       "    </tr>\n",
       "    <tr>\n",
       "      <th>26</th>\n",
       "      <td>-1327</td>\n",
       "      <td>LOYDSELECTRIC</td>\n",
       "      <td>dfroeschle@loydselectric.com</td>\n",
       "      <td>99</td>\n",
       "      <td>1327</td>\n",
       "    </tr>\n",
       "    <tr>\n",
       "      <th>11</th>\n",
       "      <td>1331</td>\n",
       "      <td>SALEMNEWS</td>\n",
       "      <td>nroy@eagletribune.com</td>\n",
       "      <td>5</td>\n",
       "      <td>1331</td>\n",
       "    </tr>\n",
       "    <tr>\n",
       "      <th>25</th>\n",
       "      <td>-1331</td>\n",
       "      <td>SALEMNEWS</td>\n",
       "      <td>nroy@eagletribune.com</td>\n",
       "      <td>99</td>\n",
       "      <td>1331</td>\n",
       "    </tr>\n",
       "    <tr>\n",
       "      <th>12</th>\n",
       "      <td>1332</td>\n",
       "      <td>DAILYNEWS</td>\n",
       "      <td>nroy@eagletribune.com</td>\n",
       "      <td>5</td>\n",
       "      <td>1332</td>\n",
       "    </tr>\n",
       "    <tr>\n",
       "      <th>24</th>\n",
       "      <td>-1332</td>\n",
       "      <td>DAILYNEWS</td>\n",
       "      <td>nroy@eagletribune.com</td>\n",
       "      <td>99</td>\n",
       "      <td>1332</td>\n",
       "    </tr>\n",
       "    <tr>\n",
       "      <th>13</th>\n",
       "      <td>1333</td>\n",
       "      <td>GLOUCESTERDAILYTIMES</td>\n",
       "      <td>nroy@eagletribune.com</td>\n",
       "      <td>5</td>\n",
       "      <td>1333</td>\n",
       "    </tr>\n",
       "    <tr>\n",
       "      <th>23</th>\n",
       "      <td>-1333</td>\n",
       "      <td>GLOUCESTERDAILYTIMES</td>\n",
       "      <td>nroy@eagletribune.com</td>\n",
       "      <td>99</td>\n",
       "      <td>1333</td>\n",
       "    </tr>\n",
       "    <tr>\n",
       "      <th>22</th>\n",
       "      <td>-1334</td>\n",
       "      <td>ANDOVERTOWNSMAN</td>\n",
       "      <td>nroy@eagletribune.com</td>\n",
       "      <td>99</td>\n",
       "      <td>1334</td>\n",
       "    </tr>\n",
       "    <tr>\n",
       "      <th>14</th>\n",
       "      <td>1334</td>\n",
       "      <td>ANDOVERTOWNSMAN</td>\n",
       "      <td>nroy@eagletribune.com</td>\n",
       "      <td>5</td>\n",
       "      <td>1334</td>\n",
       "    </tr>\n",
       "    <tr>\n",
       "      <th>15</th>\n",
       "      <td>1335</td>\n",
       "      <td>CARRIAGETOWNENEWS</td>\n",
       "      <td>nroy@eagletribune.com</td>\n",
       "      <td>99</td>\n",
       "      <td>1335</td>\n",
       "    </tr>\n",
       "    <tr>\n",
       "      <th>21</th>\n",
       "      <td>-1335</td>\n",
       "      <td>CARRIAGETOWNENEWS</td>\n",
       "      <td>nroy@eagletribune.com</td>\n",
       "      <td>99</td>\n",
       "      <td>1335</td>\n",
       "    </tr>\n",
       "    <tr>\n",
       "      <th>20</th>\n",
       "      <td>-1336</td>\n",
       "      <td>DERRYNEWS</td>\n",
       "      <td>nroy@eagletribune.com</td>\n",
       "      <td>99</td>\n",
       "      <td>1336</td>\n",
       "    </tr>\n",
       "    <tr>\n",
       "      <th>16</th>\n",
       "      <td>1336</td>\n",
       "      <td>DERRYNEWS</td>\n",
       "      <td>nroy@eagletribune.com</td>\n",
       "      <td>5</td>\n",
       "      <td>1336</td>\n",
       "    </tr>\n",
       "    <tr>\n",
       "      <th>17</th>\n",
       "      <td>1337</td>\n",
       "      <td>HAVERHILLGAZETTE</td>\n",
       "      <td>nroy@eagletribune.com</td>\n",
       "      <td>5</td>\n",
       "      <td>1337</td>\n",
       "    </tr>\n",
       "    <tr>\n",
       "      <th>19</th>\n",
       "      <td>-1337</td>\n",
       "      <td>HAVERHILLGAZETTE</td>\n",
       "      <td>nroy@eagletribune.com</td>\n",
       "      <td>99</td>\n",
       "      <td>1337</td>\n",
       "    </tr>\n",
       "    <tr>\n",
       "      <th>18</th>\n",
       "      <td>1338</td>\n",
       "      <td>THEANDOVERSMAGAZINE</td>\n",
       "      <td>nroy@eagletribune.com</td>\n",
       "      <td>5</td>\n",
       "      <td>1338</td>\n",
       "    </tr>\n",
       "    <tr>\n",
       "      <th>18</th>\n",
       "      <td>-1338</td>\n",
       "      <td>THEANDOVERSMAGAZINE</td>\n",
       "      <td>nroy@eagletribune.com</td>\n",
       "      <td>99</td>\n",
       "      <td>1338</td>\n",
       "    </tr>\n",
       "    <tr>\n",
       "      <th>17</th>\n",
       "      <td>-1339</td>\n",
       "      <td>NEWBURYPORTMAGAZINE</td>\n",
       "      <td>nroy@eagletribune.com</td>\n",
       "      <td>99</td>\n",
       "      <td>1339</td>\n",
       "    </tr>\n",
       "    <tr>\n",
       "      <th>19</th>\n",
       "      <td>1339</td>\n",
       "      <td>NEWBURYPORTMAGAZINE</td>\n",
       "      <td>nroy@eagletribune.com</td>\n",
       "      <td>5</td>\n",
       "      <td>1339</td>\n",
       "    </tr>\n",
       "    <tr>\n",
       "      <th>20</th>\n",
       "      <td>1340</td>\n",
       "      <td>CAPEANNMAGAZINE</td>\n",
       "      <td>nroy@eagletribune.com</td>\n",
       "      <td>5</td>\n",
       "      <td>1340</td>\n",
       "    </tr>\n",
       "    <tr>\n",
       "      <th>16</th>\n",
       "      <td>-1340</td>\n",
       "      <td>CAPEANNMAGAZINE</td>\n",
       "      <td>nroy@eagletribune.com</td>\n",
       "      <td>99</td>\n",
       "      <td>1340</td>\n",
       "    </tr>\n",
       "    <tr>\n",
       "      <th>21</th>\n",
       "      <td>1342</td>\n",
       "      <td>MARBLEHEADHOMESTYLE</td>\n",
       "      <td>nroy@eagletribune.com</td>\n",
       "      <td>99</td>\n",
       "      <td>1342</td>\n",
       "    </tr>\n",
       "    <tr>\n",
       "      <th>15</th>\n",
       "      <td>-1342</td>\n",
       "      <td>MARBLEHEADHOMESTYLE</td>\n",
       "      <td>nroy@eagletribune.com</td>\n",
       "      <td>99</td>\n",
       "      <td>1342</td>\n",
       "    </tr>\n",
       "    <tr>\n",
       "      <th>14</th>\n",
       "      <td>-1528</td>\n",
       "      <td>HULLMALIGHT</td>\n",
       "      <td>jford@town.hull.ma.us</td>\n",
       "      <td>99</td>\n",
       "      <td>1528</td>\n",
       "    </tr>\n",
       "    <tr>\n",
       "      <th>22</th>\n",
       "      <td>1528</td>\n",
       "      <td>HULLMALIGHT</td>\n",
       "      <td>jford@town.hull.ma.us</td>\n",
       "      <td>5</td>\n",
       "      <td>1528</td>\n",
       "    </tr>\n",
       "    <tr>\n",
       "      <th>23</th>\n",
       "      <td>1704</td>\n",
       "      <td>TOPSFIELDMAWATER</td>\n",
       "      <td>bmichalowski@topsfield-ma.gov</td>\n",
       "      <td>5</td>\n",
       "      <td>1704</td>\n",
       "    </tr>\n",
       "    <tr>\n",
       "      <th>13</th>\n",
       "      <td>-1704</td>\n",
       "      <td>TOPSFIELDMAWATER</td>\n",
       "      <td>bmichalowski@topsfield-ma.gov</td>\n",
       "      <td>99</td>\n",
       "      <td>1704</td>\n",
       "    </tr>\n",
       "    <tr>\n",
       "      <th>24</th>\n",
       "      <td>1935</td>\n",
       "      <td>SMYRNADEDPW</td>\n",
       "      <td>jmarkow@smyrna.delaware.gov</td>\n",
       "      <td>5</td>\n",
       "      <td>1935</td>\n",
       "    </tr>\n",
       "    <tr>\n",
       "      <th>12</th>\n",
       "      <td>-1935</td>\n",
       "      <td>SMYRNADEDPW</td>\n",
       "      <td>jmarkow@smyrna.delaware.gov</td>\n",
       "      <td>99</td>\n",
       "      <td>1935</td>\n",
       "    </tr>\n",
       "    <tr>\n",
       "      <th>25</th>\n",
       "      <td>1953</td>\n",
       "      <td>SMYRNADE</td>\n",
       "      <td>jmarkow@smyrna.delaware.gov</td>\n",
       "      <td>5</td>\n",
       "      <td>1953</td>\n",
       "    </tr>\n",
       "    <tr>\n",
       "      <th>11</th>\n",
       "      <td>-1953</td>\n",
       "      <td>SMYRNADE</td>\n",
       "      <td>jmarkow@smyrna.delaware.gov</td>\n",
       "      <td>99</td>\n",
       "      <td>1953</td>\n",
       "    </tr>\n",
       "    <tr>\n",
       "      <th>10</th>\n",
       "      <td>-2018</td>\n",
       "      <td>RHFOSTER</td>\n",
       "      <td>lcoombs@rhfoster.com</td>\n",
       "      <td>99</td>\n",
       "      <td>2018</td>\n",
       "    </tr>\n",
       "    <tr>\n",
       "      <th>26</th>\n",
       "      <td>2018</td>\n",
       "      <td>RHFOSTER</td>\n",
       "      <td>scyr@rhfoster.com</td>\n",
       "      <td>5</td>\n",
       "      <td>2018</td>\n",
       "    </tr>\n",
       "    <tr>\n",
       "      <th>27</th>\n",
       "      <td>2028</td>\n",
       "      <td>RHFOSTERCC</td>\n",
       "      <td>ap@rhfoster.com</td>\n",
       "      <td>5</td>\n",
       "      <td>2028</td>\n",
       "    </tr>\n",
       "    <tr>\n",
       "      <th>9</th>\n",
       "      <td>-2028</td>\n",
       "      <td>RHFOSTERCC</td>\n",
       "      <td>lcoombs@rhfoster.com</td>\n",
       "      <td>99</td>\n",
       "      <td>2028</td>\n",
       "    </tr>\n",
       "    <tr>\n",
       "      <th>8</th>\n",
       "      <td>-2075</td>\n",
       "      <td>ROWLEYMALIGHT</td>\n",
       "      <td>egrover@rowleylight.com</td>\n",
       "      <td>99</td>\n",
       "      <td>2075</td>\n",
       "    </tr>\n",
       "    <tr>\n",
       "      <th>28</th>\n",
       "      <td>2075</td>\n",
       "      <td>ROWLEYMALIGHT</td>\n",
       "      <td>egrover@rowleylight.com</td>\n",
       "      <td>99</td>\n",
       "      <td>2075</td>\n",
       "    </tr>\n",
       "    <tr>\n",
       "      <th>29</th>\n",
       "      <td>2106</td>\n",
       "      <td>THEREADINGSMAGAZINE</td>\n",
       "      <td>nroy@eagletribune.com</td>\n",
       "      <td>5</td>\n",
       "      <td>2106</td>\n",
       "    </tr>\n",
       "    <tr>\n",
       "      <th>7</th>\n",
       "      <td>-2106</td>\n",
       "      <td>THEREADINGSMAGAZINE</td>\n",
       "      <td>nroy@eagletribune.com</td>\n",
       "      <td>99</td>\n",
       "      <td>2106</td>\n",
       "    </tr>\n",
       "    <tr>\n",
       "      <th>30</th>\n",
       "      <td>2158</td>\n",
       "      <td>NORTHOFBOSTONBUSI</td>\n",
       "      <td>nroy@eagletribune.com</td>\n",
       "      <td>5</td>\n",
       "      <td>2158</td>\n",
       "    </tr>\n",
       "    <tr>\n",
       "      <th>6</th>\n",
       "      <td>-2158</td>\n",
       "      <td>NORTHOFBOSTONBUSI</td>\n",
       "      <td>nroy@eagletribune.com</td>\n",
       "      <td>99</td>\n",
       "      <td>2158</td>\n",
       "    </tr>\n",
       "    <tr>\n",
       "      <th>5</th>\n",
       "      <td>-2415</td>\n",
       "      <td>WINDHAMMAGAZINE</td>\n",
       "      <td>nroy@eagletribune.com</td>\n",
       "      <td>99</td>\n",
       "      <td>2415</td>\n",
       "    </tr>\n",
       "    <tr>\n",
       "      <th>31</th>\n",
       "      <td>2415</td>\n",
       "      <td>WINDHAMMAGAZINE</td>\n",
       "      <td>nroy@eagletribune.com</td>\n",
       "      <td>5</td>\n",
       "      <td>2415</td>\n",
       "    </tr>\n",
       "    <tr>\n",
       "      <th>32</th>\n",
       "      <td>2666</td>\n",
       "      <td>NORTHOFBOSTON</td>\n",
       "      <td>nroy@eagletribune.com</td>\n",
       "      <td>5</td>\n",
       "      <td>2666</td>\n",
       "    </tr>\n",
       "    <tr>\n",
       "      <th>4</th>\n",
       "      <td>-2666</td>\n",
       "      <td>NORTHOFBOSTON</td>\n",
       "      <td>nroy@eagletribune.com</td>\n",
       "      <td>99</td>\n",
       "      <td>2666</td>\n",
       "    </tr>\n",
       "    <tr>\n",
       "      <th>3</th>\n",
       "      <td>-2702</td>\n",
       "      <td>STAPLESUS</td>\n",
       "      <td>karen.orris@staples.com</td>\n",
       "      <td>99</td>\n",
       "      <td>2702</td>\n",
       "    </tr>\n",
       "    <tr>\n",
       "      <th>33</th>\n",
       "      <td>2702</td>\n",
       "      <td>STAPLESUS</td>\n",
       "      <td>karen.orris@staples.com</td>\n",
       "      <td>5</td>\n",
       "      <td>2702</td>\n",
       "    </tr>\n",
       "    <tr>\n",
       "      <th>2</th>\n",
       "      <td>-2704</td>\n",
       "      <td>JIMESTACK2B2B</td>\n",
       "      <td>jime@billtrust.com</td>\n",
       "      <td>99</td>\n",
       "      <td>2704</td>\n",
       "    </tr>\n",
       "    <tr>\n",
       "      <th>34</th>\n",
       "      <td>2704</td>\n",
       "      <td>JIMESTACK2B2B</td>\n",
       "      <td>jime@billtrust.com</td>\n",
       "      <td>5</td>\n",
       "      <td>2704</td>\n",
       "    </tr>\n",
       "    <tr>\n",
       "      <th>35</th>\n",
       "      <td>2706</td>\n",
       "      <td>JIMESTACK2B2C</td>\n",
       "      <td>jime@billtrust.com</td>\n",
       "      <td>5</td>\n",
       "      <td>2706</td>\n",
       "    </tr>\n",
       "    <tr>\n",
       "      <th>1</th>\n",
       "      <td>-2706</td>\n",
       "      <td>JIMESTACK2B2C</td>\n",
       "      <td>jime@billtrust.com</td>\n",
       "      <td>99</td>\n",
       "      <td>2706</td>\n",
       "    </tr>\n",
       "    <tr>\n",
       "      <th>0</th>\n",
       "      <td>-3015</td>\n",
       "      <td>FEDEX</td>\n",
       "      <td>Billtrust_FXF_Contact@corp.ds.fedex.com</td>\n",
       "      <td>99</td>\n",
       "      <td>3015</td>\n",
       "    </tr>\n",
       "    <tr>\n",
       "      <th>40</th>\n",
       "      <td>3015</td>\n",
       "      <td>FEDEX</td>\n",
       "      <td>Billtrust_FXF_Contact@corp.ds.fedex.com</td>\n",
       "      <td>5</td>\n",
       "      <td>3015</td>\n",
       "    </tr>\n",
       "  </tbody>\n",
       "</table>\n",
       "</div>"
      ],
      "text/plain": [
       "     CustomerId              UserName  \\\n",
       "445         500             BILLTRUST   \n",
       "0           500            BILLTRUST3   \n",
       "1           569             METROCLUB   \n",
       "34         -569             METROCLUB   \n",
       "2           688            UNITEDTILE   \n",
       "33         -688            UNITEDTILE   \n",
       "3           698         FACTORSYSTEMS   \n",
       "639         698         FACTORSYSTEMS   \n",
       "4           862              CHIQUITA   \n",
       "32         -862              CHIQUITA   \n",
       "5           946          FRESHEXPRESS   \n",
       "31         -946          FRESHEXPRESS   \n",
       "6           947                FRUPAC   \n",
       "30         -947                FRUPAC   \n",
       "7           948                   PFI   \n",
       "29         -948                   PFI   \n",
       "8          1200          EAGLETRIBUNE   \n",
       "28        -1200          EAGLETRIBUNE   \n",
       "9          1222     AUGUSTASPORTSWEAR   \n",
       "27        -1222     AUGUSTASPORTSWEAR   \n",
       "10         1327         LOYDSELECTRIC   \n",
       "26        -1327         LOYDSELECTRIC   \n",
       "11         1331             SALEMNEWS   \n",
       "25        -1331             SALEMNEWS   \n",
       "12         1332             DAILYNEWS   \n",
       "24        -1332             DAILYNEWS   \n",
       "13         1333  GLOUCESTERDAILYTIMES   \n",
       "23        -1333  GLOUCESTERDAILYTIMES   \n",
       "22        -1334       ANDOVERTOWNSMAN   \n",
       "14         1334       ANDOVERTOWNSMAN   \n",
       "15         1335     CARRIAGETOWNENEWS   \n",
       "21        -1335     CARRIAGETOWNENEWS   \n",
       "20        -1336             DERRYNEWS   \n",
       "16         1336             DERRYNEWS   \n",
       "17         1337      HAVERHILLGAZETTE   \n",
       "19        -1337      HAVERHILLGAZETTE   \n",
       "18         1338   THEANDOVERSMAGAZINE   \n",
       "18        -1338   THEANDOVERSMAGAZINE   \n",
       "17        -1339   NEWBURYPORTMAGAZINE   \n",
       "19         1339   NEWBURYPORTMAGAZINE   \n",
       "20         1340       CAPEANNMAGAZINE   \n",
       "16        -1340       CAPEANNMAGAZINE   \n",
       "21         1342   MARBLEHEADHOMESTYLE   \n",
       "15        -1342   MARBLEHEADHOMESTYLE   \n",
       "14        -1528           HULLMALIGHT   \n",
       "22         1528           HULLMALIGHT   \n",
       "23         1704      TOPSFIELDMAWATER   \n",
       "13        -1704      TOPSFIELDMAWATER   \n",
       "24         1935           SMYRNADEDPW   \n",
       "12        -1935           SMYRNADEDPW   \n",
       "25         1953              SMYRNADE   \n",
       "11        -1953              SMYRNADE   \n",
       "10        -2018              RHFOSTER   \n",
       "26         2018              RHFOSTER   \n",
       "27         2028            RHFOSTERCC   \n",
       "9         -2028            RHFOSTERCC   \n",
       "8         -2075         ROWLEYMALIGHT   \n",
       "28         2075         ROWLEYMALIGHT   \n",
       "29         2106   THEREADINGSMAGAZINE   \n",
       "7         -2106   THEREADINGSMAGAZINE   \n",
       "30         2158     NORTHOFBOSTONBUSI   \n",
       "6         -2158     NORTHOFBOSTONBUSI   \n",
       "5         -2415       WINDHAMMAGAZINE   \n",
       "31         2415       WINDHAMMAGAZINE   \n",
       "32         2666         NORTHOFBOSTON   \n",
       "4         -2666         NORTHOFBOSTON   \n",
       "3         -2702             STAPLESUS   \n",
       "33         2702             STAPLESUS   \n",
       "2         -2704         JIMESTACK2B2B   \n",
       "34         2704         JIMESTACK2B2B   \n",
       "35         2706         JIMESTACK2B2C   \n",
       "1         -2706         JIMESTACK2B2C   \n",
       "0         -3015                 FEDEX   \n",
       "40         3015                 FEDEX   \n",
       "\n",
       "                                EmailPrimary  CustomerStatus  CustomerIdAbs  \n",
       "445                  avigotito@billtrust.com               5            500  \n",
       "0                    avigotito@billtrust.com               5            500  \n",
       "1                       ttesto@metroclub.org               5            569  \n",
       "34                      ttesto@metroclub.org              99            569  \n",
       "2                        barb@unitedtile.com               5            688  \n",
       "33                       barb@unitedtile.com              99            688  \n",
       "3                     btarteam@billtrust.com               5            698  \n",
       "639                    billing@billtrust.com               5            698  \n",
       "4                        mlocke@chiquita.com               5            862  \n",
       "32                       mlocke@chiquita.com              99            862  \n",
       "5                        mloker@chiquita.com               5            946  \n",
       "31                       mloker@chiquita.com              99            946  \n",
       "6                        mloker@chiquita.com               5            947  \n",
       "30                       mloker@chiquita.com              99            947  \n",
       "7                        mloker@chiquita.com               5            948  \n",
       "29                       mloker@chiquita.com              99            948  \n",
       "8                      nroy@eagletribune.com               5           1200  \n",
       "28                     nroy@eagletribune.com              99           1200  \n",
       "9                jdube@augustasportswear.com               5           1222  \n",
       "27               jdube@augustasportswear.com              99           1222  \n",
       "10              dfroeschle@loydselectric.com               5           1327  \n",
       "26              dfroeschle@loydselectric.com              99           1327  \n",
       "11                     nroy@eagletribune.com               5           1331  \n",
       "25                     nroy@eagletribune.com              99           1331  \n",
       "12                     nroy@eagletribune.com               5           1332  \n",
       "24                     nroy@eagletribune.com              99           1332  \n",
       "13                     nroy@eagletribune.com               5           1333  \n",
       "23                     nroy@eagletribune.com              99           1333  \n",
       "22                     nroy@eagletribune.com              99           1334  \n",
       "14                     nroy@eagletribune.com               5           1334  \n",
       "15                     nroy@eagletribune.com              99           1335  \n",
       "21                     nroy@eagletribune.com              99           1335  \n",
       "20                     nroy@eagletribune.com              99           1336  \n",
       "16                     nroy@eagletribune.com               5           1336  \n",
       "17                     nroy@eagletribune.com               5           1337  \n",
       "19                     nroy@eagletribune.com              99           1337  \n",
       "18                     nroy@eagletribune.com               5           1338  \n",
       "18                     nroy@eagletribune.com              99           1338  \n",
       "17                     nroy@eagletribune.com              99           1339  \n",
       "19                     nroy@eagletribune.com               5           1339  \n",
       "20                     nroy@eagletribune.com               5           1340  \n",
       "16                     nroy@eagletribune.com              99           1340  \n",
       "21                     nroy@eagletribune.com              99           1342  \n",
       "15                     nroy@eagletribune.com              99           1342  \n",
       "14                     jford@town.hull.ma.us              99           1528  \n",
       "22                     jford@town.hull.ma.us               5           1528  \n",
       "23             bmichalowski@topsfield-ma.gov               5           1704  \n",
       "13             bmichalowski@topsfield-ma.gov              99           1704  \n",
       "24               jmarkow@smyrna.delaware.gov               5           1935  \n",
       "12               jmarkow@smyrna.delaware.gov              99           1935  \n",
       "25               jmarkow@smyrna.delaware.gov               5           1953  \n",
       "11               jmarkow@smyrna.delaware.gov              99           1953  \n",
       "10                      lcoombs@rhfoster.com              99           2018  \n",
       "26                         scyr@rhfoster.com               5           2018  \n",
       "27                           ap@rhfoster.com               5           2028  \n",
       "9                       lcoombs@rhfoster.com              99           2028  \n",
       "8                    egrover@rowleylight.com              99           2075  \n",
       "28                   egrover@rowleylight.com              99           2075  \n",
       "29                     nroy@eagletribune.com               5           2106  \n",
       "7                      nroy@eagletribune.com              99           2106  \n",
       "30                     nroy@eagletribune.com               5           2158  \n",
       "6                      nroy@eagletribune.com              99           2158  \n",
       "5                      nroy@eagletribune.com              99           2415  \n",
       "31                     nroy@eagletribune.com               5           2415  \n",
       "32                     nroy@eagletribune.com               5           2666  \n",
       "4                      nroy@eagletribune.com              99           2666  \n",
       "3                    karen.orris@staples.com              99           2702  \n",
       "33                   karen.orris@staples.com               5           2702  \n",
       "2                         jime@billtrust.com              99           2704  \n",
       "34                        jime@billtrust.com               5           2704  \n",
       "35                        jime@billtrust.com               5           2706  \n",
       "1                         jime@billtrust.com              99           2706  \n",
       "0    Billtrust_FXF_Contact@corp.ds.fedex.com              99           3015  \n",
       "40   Billtrust_FXF_Contact@corp.ds.fedex.com               5           3015  "
      ]
     },
     "execution_count": 36,
     "metadata": {},
     "output_type": "execute_result"
    }
   ],
   "source": [
    "csr_num_ids = csr.groupby('CustomerIdAbs').CustomerId.count()\n",
    "csr[csr.CustomerIdAbs.isin(csr_num_ids[csr_num_ids > 1].index.tolist())].CustomerIdAbs.nunique()\n",
    "with pd.option_context('display.max_rows', None,):\n",
    "    csr[csr.CustomerIdAbs.isin(csr_num_ids[csr_num_ids > 1].index.tolist())].sort_values('CustomerIdAbs')"
   ]
  },
  {
   "cell_type": "markdown",
   "id": "898f788e-52d2-47b3-8b4a-1661f268ba49",
   "metadata": {},
   "source": [
    "Taking into account negative ids, there are 37 duplicated customers. For 33 of them, there is one record with status 5 and another with 99. In the other 4 cases both rows have the same status."
   ]
  },
  {
   "cell_type": "markdown",
   "id": "7f8437a8-8343-412b-86f4-7e1916cc7600",
   "metadata": {},
   "source": [
    "Let's see how many distinct CSR IDs there are, not taking into account duplicates (or the ones with a negative CSR ID)"
   ]
  },
  {
   "cell_type": "code",
   "execution_count": 44,
   "id": "5d81051d-edc9-4b88-b742-fda25a032a69",
   "metadata": {
    "tags": []
   },
   "outputs": [
    {
     "data": {
      "text/plain": [
       "4201"
      ]
     },
     "execution_count": 44,
     "metadata": {},
     "output_type": "execute_result"
    }
   ],
   "source": [
    "csr_ids = csr.CustomerIdAbs.dropna().unique().tolist()\n",
    "len(csr_ids)"
   ]
  },
  {
   "cell_type": "markdown",
   "id": "f92490d8-6ed8-4d09-be1f-126eaada2d21",
   "metadata": {},
   "source": [
    "And compare them to the number of CSR IDs in Salesforce"
   ]
  },
  {
   "cell_type": "code",
   "execution_count": 45,
   "id": "46801112-790e-4d9e-b521-39b2bac87af9",
   "metadata": {
    "tags": []
   },
   "outputs": [
    {
     "data": {
      "text/plain": [
       "2450"
      ]
     },
     "execution_count": 45,
     "metadata": {},
     "output_type": "execute_result"
    }
   ],
   "source": [
    "salesforce1_csr_ids = salesforce1.INVOICING_CUSTOMER_ID.dropna().unique().tolist()\n",
    "len(salesforce1_csr_ids)"
   ]
  },
  {
   "cell_type": "markdown",
   "id": "ff5906dc-1828-41fc-aa91-75ba23d116ce",
   "metadata": {},
   "source": [
    "Do all CSR IDs in Salesforce appear in CSR?"
   ]
  },
  {
   "cell_type": "code",
   "execution_count": 46,
   "id": "2488033c-6ff3-426c-b127-12b0f3357a61",
   "metadata": {
    "tags": []
   },
   "outputs": [
    {
     "data": {
      "text/plain": [
       "2449"
      ]
     },
     "execution_count": 46,
     "metadata": {},
     "output_type": "execute_result"
    }
   ],
   "source": [
    "both_salesforce_and_csr_ids = set(salesforce1_csr_ids).intersection(set(csr_ids))\n",
    "both_salesforce_and_csr = len(both_salesforce_and_csr_ids)\n",
    "both_salesforce_and_csr"
   ]
  },
  {
   "cell_type": "code",
   "execution_count": 47,
   "id": "19612d26-2206-482b-bb46-50d7e50edfff",
   "metadata": {
    "tags": []
   },
   "outputs": [
    {
     "data": {
      "text/plain": [
       "1"
      ]
     },
     "execution_count": 47,
     "metadata": {},
     "output_type": "execute_result"
    }
   ],
   "source": [
    "only_salesforce_ids = set(salesforce1_csr_ids).difference(csr_ids)\n",
    "only_salesforce = len(only_salesforce_ids)\n",
    "only_salesforce"
   ]
  },
  {
   "cell_type": "markdown",
   "id": "bf23788b-fa14-49ed-8e4c-3568e2210e12",
   "metadata": {},
   "source": [
    "No!"
   ]
  },
  {
   "cell_type": "code",
   "execution_count": 48,
   "id": "57f66c3c-d7b7-4752-9720-c441691957b6",
   "metadata": {
    "tags": []
   },
   "outputs": [
    {
     "data": {
      "text/plain": [
       "{9829}"
      ]
     },
     "execution_count": 48,
     "metadata": {},
     "output_type": "execute_result"
    },
    {
     "data": {
      "text/html": [
       "<div>\n",
       "<style scoped>\n",
       "    .dataframe tbody tr th:only-of-type {\n",
       "        vertical-align: middle;\n",
       "    }\n",
       "\n",
       "    .dataframe tbody tr th {\n",
       "        vertical-align: top;\n",
       "    }\n",
       "\n",
       "    .dataframe thead th {\n",
       "        text-align: right;\n",
       "    }\n",
       "</style>\n",
       "<table border=\"1\" class=\"dataframe\">\n",
       "  <thead>\n",
       "    <tr style=\"text-align: right;\">\n",
       "      <th></th>\n",
       "      <th>ACCOUNT_ID</th>\n",
       "      <th>ACCOUNT_NAME</th>\n",
       "      <th>ACCOUNT_TYPE</th>\n",
       "      <th>REGION</th>\n",
       "      <th>INVOICING_CUSTOMER_NAME</th>\n",
       "      <th>INVOICING_CUSTOMER_ID</th>\n",
       "      <th>BILLING_ID</th>\n",
       "      <th>PARENT_ACCOUNT_ID</th>\n",
       "      <th>TOP_LEVEL_PARENT_ACCOUNT_ID</th>\n",
       "    </tr>\n",
       "  </thead>\n",
       "  <tbody>\n",
       "    <tr>\n",
       "      <th>198368</th>\n",
       "      <td>0018Y00002tkRQqQAM</td>\n",
       "      <td>test</td>\n",
       "      <td>Prospect</td>\n",
       "      <td>UNKNOWN</td>\n",
       "      <td>TEST</td>\n",
       "      <td>9829</td>\n",
       "      <td>NaN</td>\n",
       "      <td>NaN</td>\n",
       "      <td>0018Y00002tkRQqQAM</td>\n",
       "    </tr>\n",
       "  </tbody>\n",
       "</table>\n",
       "</div>"
      ],
      "text/plain": [
       "                ACCOUNT_ID ACCOUNT_NAME ACCOUNT_TYPE   REGION  \\\n",
       "198368  0018Y00002tkRQqQAM         test     Prospect  UNKNOWN   \n",
       "\n",
       "       INVOICING_CUSTOMER_NAME  INVOICING_CUSTOMER_ID BILLING_ID  \\\n",
       "198368                    TEST                   9829        NaN   \n",
       "\n",
       "       PARENT_ACCOUNT_ID TOP_LEVEL_PARENT_ACCOUNT_ID  \n",
       "198368               NaN          0018Y00002tkRQqQAM  "
      ]
     },
     "execution_count": 48,
     "metadata": {},
     "output_type": "execute_result"
    }
   ],
   "source": [
    "only_salesforce_ids\n",
    "salesforce1[salesforce1.INVOICING_CUSTOMER_ID == 9829]"
   ]
  },
  {
   "cell_type": "markdown",
   "id": "db4ae02d-f9a3-431d-8c12-76b48904692a",
   "metadata": {},
   "source": [
    "There's 1 CSR ID in Salesforce that's not present in CSR, but it's a TEST account based on the `INVOICING_CUSTOMER_NAME`"
   ]
  },
  {
   "cell_type": "code",
   "execution_count": 49,
   "id": "9a0f5d3a-833a-4981-b853-c96f9a062749",
   "metadata": {
    "tags": []
   },
   "outputs": [
    {
     "data": {
      "text/plain": [
       "1752"
      ]
     },
     "execution_count": 49,
     "metadata": {},
     "output_type": "execute_result"
    }
   ],
   "source": [
    "only_csr_ids = set(csr_ids).difference(salesforce1_csr_ids)\n",
    "only_csr = len(only_csr_ids)\n",
    "only_csr"
   ]
  },
  {
   "cell_type": "markdown",
   "id": "bb60f942-2231-4d11-abe7-7e1406635861",
   "metadata": {},
   "source": [
    "There are 1,752 CSR_IDs in the CSR data that don't appear in Salesforce"
   ]
  },
  {
   "cell_type": "code",
   "execution_count": null,
   "id": "07ac1d3c-205a-4c90-8991-e5df4c98af35",
   "metadata": {},
   "outputs": [],
   "source": []
  },
  {
   "cell_type": "markdown",
   "id": "f3509c06-6de8-48a8-8434-2f1bc1f527e6",
   "metadata": {},
   "source": [
    "## Mapping"
   ]
  },
  {
   "cell_type": "code",
   "execution_count": 50,
   "id": "7e8c51c1-46bf-4df8-b6c1-6d7e6e94a134",
   "metadata": {
    "tags": []
   },
   "outputs": [],
   "source": [
    "mapping = pd.read_csv('KS_mapping.csv')"
   ]
  },
  {
   "cell_type": "code",
   "execution_count": 51,
   "id": "3304d526-f45c-493b-8d8e-d89f632c9ff2",
   "metadata": {
    "tags": []
   },
   "outputs": [
    {
     "data": {
      "text/plain": [
       "(3189, 5)"
      ]
     },
     "execution_count": 51,
     "metadata": {},
     "output_type": "execute_result"
    },
    {
     "data": {
      "text/plain": [
       "3189"
      ]
     },
     "execution_count": 51,
     "metadata": {},
     "output_type": "execute_result"
    },
    {
     "data": {
      "text/plain": [
       "2078"
      ]
     },
     "execution_count": 51,
     "metadata": {},
     "output_type": "execute_result"
    },
    {
     "data": {
      "text/html": [
       "<div>\n",
       "<style scoped>\n",
       "    .dataframe tbody tr th:only-of-type {\n",
       "        vertical-align: middle;\n",
       "    }\n",
       "\n",
       "    .dataframe tbody tr th {\n",
       "        vertical-align: top;\n",
       "    }\n",
       "\n",
       "    .dataframe thead th {\n",
       "        text-align: right;\n",
       "    }\n",
       "</style>\n",
       "<table border=\"1\" class=\"dataframe\">\n",
       "  <thead>\n",
       "    <tr style=\"text-align: right;\">\n",
       "      <th></th>\n",
       "      <th>CSRID</th>\n",
       "      <th>tenantid</th>\n",
       "      <th>CSRUsername</th>\n",
       "      <th>SalesforceAccountid</th>\n",
       "      <th>BillingPlatformAccountID</th>\n",
       "    </tr>\n",
       "  </thead>\n",
       "  <tbody>\n",
       "    <tr>\n",
       "      <th>0</th>\n",
       "      <td>2408</td>\n",
       "      <td>b05ed81b-919f-40fe-9302-ffc34c2d265d</td>\n",
       "      <td>1SUPPLY</td>\n",
       "      <td>001A000000Iku6UIAR</td>\n",
       "      <td>71693.0</td>\n",
       "    </tr>\n",
       "    <tr>\n",
       "      <th>1</th>\n",
       "      <td>3338</td>\n",
       "      <td>009e6319-1601-4d6c-986b-3a2367080b55</td>\n",
       "      <td>3E-CO</td>\n",
       "      <td>001A000000IkuAgIAJ</td>\n",
       "      <td>71729.0</td>\n",
       "    </tr>\n",
       "    <tr>\n",
       "      <th>2</th>\n",
       "      <td>4568</td>\n",
       "      <td>f28676da-576a-4dd7-8805-2aa39b553646</td>\n",
       "      <td>5SSL</td>\n",
       "      <td>00116000024UXtZAAW</td>\n",
       "      <td>73225.0</td>\n",
       "    </tr>\n",
       "    <tr>\n",
       "      <th>3</th>\n",
       "      <td>355</td>\n",
       "      <td>a856bdb8-e1c7-42c5-bf6e-96c068a93f8a</td>\n",
       "      <td>84LUMBER</td>\n",
       "      <td>001A000000Iku0PIAR</td>\n",
       "      <td>71040.0</td>\n",
       "    </tr>\n",
       "    <tr>\n",
       "      <th>4</th>\n",
       "      <td>2308</td>\n",
       "      <td>b044a69e-e0f9-4036-9c18-8f025faca0b8</td>\n",
       "      <td>AAACOOPER</td>\n",
       "      <td>001G000000nv05kIAA</td>\n",
       "      <td>72546.0</td>\n",
       "    </tr>\n",
       "  </tbody>\n",
       "</table>\n",
       "</div>"
      ],
      "text/plain": [
       "   CSRID                              tenantid CSRUsername  \\\n",
       "0   2408  b05ed81b-919f-40fe-9302-ffc34c2d265d     1SUPPLY   \n",
       "1   3338  009e6319-1601-4d6c-986b-3a2367080b55       3E-CO   \n",
       "2   4568  f28676da-576a-4dd7-8805-2aa39b553646        5SSL   \n",
       "3    355  a856bdb8-e1c7-42c5-bf6e-96c068a93f8a    84LUMBER   \n",
       "4   2308  b044a69e-e0f9-4036-9c18-8f025faca0b8   AAACOOPER   \n",
       "\n",
       "  SalesforceAccountid  BillingPlatformAccountID  \n",
       "0  001A000000Iku6UIAR                   71693.0  \n",
       "1  001A000000IkuAgIAJ                   71729.0  \n",
       "2  00116000024UXtZAAW                   73225.0  \n",
       "3  001A000000Iku0PIAR                   71040.0  \n",
       "4  001G000000nv05kIAA                   72546.0  "
      ]
     },
     "execution_count": 51,
     "metadata": {},
     "output_type": "execute_result"
    }
   ],
   "source": [
    "mapping.shape\n",
    "mapping.CSRID.nunique()\n",
    "mapping.SalesforceAccountid.nunique()\n",
    "mapping.head()"
   ]
  },
  {
   "cell_type": "code",
   "execution_count": 52,
   "id": "3711e38c-1d14-4d8b-947c-03c00b400309",
   "metadata": {
    "tags": []
   },
   "outputs": [
    {
     "data": {
      "text/plain": [
       "1013"
      ]
     },
     "execution_count": 52,
     "metadata": {},
     "output_type": "execute_result"
    }
   ],
   "source": [
    "both_salesforce_and_csr + only_salesforce + only_csr - mapping.CSRID.nunique()"
   ]
  },
  {
   "cell_type": "markdown",
   "id": "f7bfe800-70e2-4305-94dc-731bc187a216",
   "metadata": {},
   "source": [
    "There are 1013 CSR IDs more in the CSR + Salesforce data than in the mapping from Kaustubh"
   ]
  },
  {
   "cell_type": "code",
   "execution_count": 53,
   "id": "38cc5d24-47f1-4b78-9376-e14a14410431",
   "metadata": {},
   "outputs": [],
   "source": [
    "mapping[['CSRID']] = mapping[['CSRID']].astype('Int64')"
   ]
  },
  {
   "cell_type": "code",
   "execution_count": 54,
   "id": "5c1f455e-7467-4dcb-8b2a-c9b3f690f1a3",
   "metadata": {},
   "outputs": [
    {
     "data": {
      "text/plain": [
       "CSRID                         Int64\n",
       "tenantid                     object\n",
       "CSRUsername                  object\n",
       "SalesforceAccountid          object\n",
       "BillingPlatformAccountID    float64\n",
       "dtype: object"
      ]
     },
     "execution_count": 54,
     "metadata": {},
     "output_type": "execute_result"
    }
   ],
   "source": [
    "mapping.dtypes"
   ]
  },
  {
   "cell_type": "markdown",
   "id": "f43165f5-63ec-4b30-864e-c6cd5344145e",
   "metadata": {},
   "source": [
    "Let's look at all the CSR IDs in Salesforce, CSR, and the Billing mapping, to see how many are common between systems or appear only in one of them"
   ]
  },
  {
   "cell_type": "code",
   "execution_count": 56,
   "id": "a5aa3159-ddae-459d-8353-52e411504664",
   "metadata": {
    "tags": []
   },
   "outputs": [],
   "source": [
    "sf_ids = salesforce1.INVOICING_CUSTOMER_ID.dropna().unique().tolist()\n",
    "csr_ids = csr.CustomerIdAbs.dropna().unique().tolist()\n",
    "mapping_ids = mapping.CSRID.dropna().unique().tolist()"
   ]
  },
  {
   "cell_type": "code",
   "execution_count": 57,
   "id": "2dc6cb90-1aa1-4305-830a-3a52e2ae0c01",
   "metadata": {
    "tags": []
   },
   "outputs": [
    {
     "data": {
      "text/plain": [
       "2450"
      ]
     },
     "execution_count": 57,
     "metadata": {},
     "output_type": "execute_result"
    },
    {
     "data": {
      "text/plain": [
       "4201"
      ]
     },
     "execution_count": 57,
     "metadata": {},
     "output_type": "execute_result"
    },
    {
     "data": {
      "text/plain": [
       "3189"
      ]
     },
     "execution_count": 57,
     "metadata": {},
     "output_type": "execute_result"
    },
    {
     "data": {
      "text/plain": [
       "4202"
      ]
     },
     "execution_count": 57,
     "metadata": {},
     "output_type": "execute_result"
    }
   ],
   "source": [
    "len(sf_ids)\n",
    "len(csr_ids)\n",
    "len(mapping_ids)\n",
    "len(set(sf_ids + csr_ids + mapping_ids))"
   ]
  },
  {
   "cell_type": "code",
   "execution_count": 58,
   "id": "58391530-5493-4957-bccd-834b62f59c41",
   "metadata": {
    "tags": []
   },
   "outputs": [],
   "source": [
    "only_sf = set(sf_ids) - set(csr_ids) - set(mapping_ids)\n",
    "only_csr = set(csr_ids) - set(sf_ids) - set(mapping_ids)\n",
    "only_sf_csr = set(sf_ids) & set(csr_ids) - set(mapping_ids)\n",
    "only_mapping = set(mapping_ids) - set(csr_ids) - set(sf_ids)\n",
    "only_sf_mapping = (set(sf_ids) & set(mapping_ids)) - set(csr_ids)\n",
    "only_csr_mapping = (set(csr_ids) & set(mapping_ids)) - set(sf_ids)\n",
    "sf_csr_mapping = set(csr_ids) & set(mapping_ids) & set(sf_ids)"
   ]
  },
  {
   "cell_type": "code",
   "execution_count": 59,
   "id": "a9b47bad-a378-42dc-9032-481a2c0748ad",
   "metadata": {
    "tags": []
   },
   "outputs": [],
   "source": [
    "len_only_sf = len(only_sf)\n",
    "len_only_csr = len(only_csr)\n",
    "len_only_sf_csr = len(only_sf_csr)\n",
    "len_only_mapping = len(only_mapping)\n",
    "len_only_sf_mapping = len(only_sf_mapping)\n",
    "len_only_csr_mapping = len(only_csr_mapping)\n",
    "len_sf_csr_mapping = len(sf_csr_mapping)"
   ]
  },
  {
   "cell_type": "code",
   "execution_count": 60,
   "id": "61ff0183-e130-4e88-b3d8-2dcd79236ff7",
   "metadata": {
    "tags": []
   },
   "outputs": [
    {
     "data": {
      "text/plain": [
       "1"
      ]
     },
     "execution_count": 60,
     "metadata": {},
     "output_type": "execute_result"
    },
    {
     "data": {
      "text/plain": [
       "695"
      ]
     },
     "execution_count": 60,
     "metadata": {},
     "output_type": "execute_result"
    },
    {
     "data": {
      "text/plain": [
       "317"
      ]
     },
     "execution_count": 60,
     "metadata": {},
     "output_type": "execute_result"
    },
    {
     "data": {
      "text/plain": [
       "0"
      ]
     },
     "execution_count": 60,
     "metadata": {},
     "output_type": "execute_result"
    },
    {
     "data": {
      "text/plain": [
       "0"
      ]
     },
     "execution_count": 60,
     "metadata": {},
     "output_type": "execute_result"
    },
    {
     "data": {
      "text/plain": [
       "1057"
      ]
     },
     "execution_count": 60,
     "metadata": {},
     "output_type": "execute_result"
    },
    {
     "data": {
      "text/plain": [
       "2132"
      ]
     },
     "execution_count": 60,
     "metadata": {},
     "output_type": "execute_result"
    }
   ],
   "source": [
    "len_only_sf\n",
    "len_only_csr\n",
    "len_only_sf_csr\n",
    "len_only_mapping\n",
    "len_only_sf_mapping\n",
    "len_only_csr_mapping\n",
    "len_sf_csr_mapping"
   ]
  },
  {
   "cell_type": "code",
   "execution_count": 61,
   "id": "da5d5a4e-4352-4e1d-baab-9e097a5bc9af",
   "metadata": {
    "tags": []
   },
   "outputs": [
    {
     "data": {
      "text/plain": [
       "4202"
      ]
     },
     "execution_count": 61,
     "metadata": {},
     "output_type": "execute_result"
    }
   ],
   "source": [
    "len_only_sf + \\\n",
    "len_only_csr + \\\n",
    "len_only_sf_csr + \\\n",
    "len_only_mapping + \\\n",
    "len_only_sf_mapping + \\\n",
    "len_only_csr_mapping + \\\n",
    "len_sf_csr_mapping"
   ]
  },
  {
   "cell_type": "code",
   "execution_count": 62,
   "id": "a4fc002f-563f-46b2-a78b-1cd3da2566d7",
   "metadata": {
    "tags": []
   },
   "outputs": [
    {
     "data": {
      "image/png": "[encoded data removed]",
      "text/plain": [
       "<Figure size 1200x900 with 1 Axes>"
      ]
     },
     "metadata": {},
     "output_type": "display_data"
    }
   ],
   "source": [
    "from matplotlib_venn import venn3, venn3_circles, venn3_unweighted\n",
    "from matplotlib import pyplot as plt \n",
    "  \n",
    "# depict venn diagram \n",
    "_ = plt.figure(figsize=(12,9))\n",
    "\n",
    "out = venn3(subsets=(len_only_sf, len_only_csr, len_only_sf_csr, len_only_mapping, len_only_sf_mapping, len_only_csr_mapping, len_sf_csr_mapping),  \n",
    "      set_labels=('Salesforce', 'CSR', 'Mapping'),  \n",
    "      set_colors=(\"orange\", \"blue\", \"red\"), alpha=0.7) \n",
    "\n",
    "\n",
    "x, y = out.subset_labels[1].get_position()\n",
    "\n",
    "out.subset_labels[1].set_position((x-0.15, y+0.19))\n",
    "\n",
    "x, y = out.subset_labels[2].get_position()\n",
    "\n",
    "out.subset_labels[2].set_position((x-0.05, y))\n",
    "\n",
    "x, y = out.subset_labels[5].get_position()\n",
    "\n",
    "out.subset_labels[5].set_position((x+0.05, y))\n",
    "    \n",
    "plt.show(out)"
   ]
  },
  {
   "cell_type": "markdown",
   "id": "895001de-6b2c-4ebb-88f6-83892e8ee3a7",
   "metadata": {},
   "source": [
    "So CSR, as expected, contains all the CSR IDs available in Salesforce (except for the 1 test account mentioned above) and in the Billing mapping."
   ]
  },
  {
   "cell_type": "code",
   "execution_count": null,
   "id": "014fafb0-a5ff-47b6-8b4e-ccd6562e134b",
   "metadata": {},
   "outputs": [],
   "source": []
  },
  {
   "cell_type": "markdown",
   "id": "745bacfe-ec6a-496f-b28e-6f77ed64b973",
   "metadata": {
    "tags": []
   },
   "source": [
    "## Compare Kaustubh's mapping with the implicit mapping in Salesforce"
   ]
  },
  {
   "cell_type": "code",
   "execution_count": 79,
   "id": "0e74d121-3d0f-4dbd-b91e-aa8fa4fc6c8b",
   "metadata": {},
   "outputs": [
    {
     "data": {
      "text/plain": [
       "(2450, 9)"
      ]
     },
     "execution_count": 79,
     "metadata": {},
     "output_type": "execute_result"
    }
   ],
   "source": [
    "sf_w_csr_id = salesforce1[salesforce1.INVOICING_CUSTOMER_ID.notnull()].drop_duplicates(subset=['INVOICING_CUSTOMER_ID']).dropna(subset='INVOICING_CUSTOMER_ID')\n",
    "sf_w_csr_id.shape"
   ]
  },
  {
   "cell_type": "code",
   "execution_count": 87,
   "id": "75a97733-cdfd-481d-97ab-8eca6cf1cd77",
   "metadata": {},
   "outputs": [],
   "source": [
    "sf_mapping = pd.merge(salesforce1[['ACCOUNT_ID', 'ACCOUNT_NAME', 'ACCOUNT_TYPE', 'INVOICING_CUSTOMER_ID', 'INVOICING_CUSTOMER_NAME']], \n",
    "         mapping[['CSRID', 'CSRUsername', 'SalesforceAccountid']], left_on='INVOICING_CUSTOMER_ID', right_on='CSRID', how='outer')\\\n",
    "    .dropna(subset=['INVOICING_CUSTOMER_ID', 'CSRID'], how='all')"
   ]
  },
  {
   "cell_type": "code",
   "execution_count": 88,
   "id": "a9be3c20-33a5-47b7-9b19-2e9207f35a3a",
   "metadata": {},
   "outputs": [
    {
     "data": {
      "text/plain": [
       "(3511, 8)"
      ]
     },
     "execution_count": 88,
     "metadata": {},
     "output_type": "execute_result"
    },
    {
     "data": {
      "text/html": [
       "<div>\n",
       "<style scoped>\n",
       "    .dataframe tbody tr th:only-of-type {\n",
       "        vertical-align: middle;\n",
       "    }\n",
       "\n",
       "    .dataframe tbody tr th {\n",
       "        vertical-align: top;\n",
       "    }\n",
       "\n",
       "    .dataframe thead th {\n",
       "        text-align: right;\n",
       "    }\n",
       "</style>\n",
       "<table border=\"1\" class=\"dataframe\">\n",
       "  <thead>\n",
       "    <tr style=\"text-align: right;\">\n",
       "      <th></th>\n",
       "      <th>ACCOUNT_ID</th>\n",
       "      <th>ACCOUNT_NAME</th>\n",
       "      <th>ACCOUNT_TYPE</th>\n",
       "      <th>INVOICING_CUSTOMER_ID</th>\n",
       "      <th>INVOICING_CUSTOMER_NAME</th>\n",
       "      <th>CSRID</th>\n",
       "      <th>CSRUsername</th>\n",
       "      <th>SalesforceAccountid</th>\n",
       "    </tr>\n",
       "  </thead>\n",
       "  <tbody>\n",
       "    <tr>\n",
       "      <th>199903</th>\n",
       "      <td>0011600001uk9uSAAQ</td>\n",
       "      <td>Raymond Storage Concepts</td>\n",
       "      <td>Customer</td>\n",
       "      <td>2881</td>\n",
       "      <td>RAYMONDSCI</td>\n",
       "      <td>2881</td>\n",
       "      <td>RAYMONDSCI</td>\n",
       "      <td>0011600001uk9uSAAQ</td>\n",
       "    </tr>\n",
       "    <tr>\n",
       "      <th>199904</th>\n",
       "      <td>001G0000010CgQLIA0</td>\n",
       "      <td>MasterCard</td>\n",
       "      <td>Customer</td>\n",
       "      <td>5103</td>\n",
       "      <td>MASTERCARD</td>\n",
       "      <td>5103</td>\n",
       "      <td>MASTERCARD</td>\n",
       "      <td>001G0000010CgQLIA0</td>\n",
       "    </tr>\n",
       "    <tr>\n",
       "      <th>199905</th>\n",
       "      <td>0011600001nuEZGAA2</td>\n",
       "      <td>Sonepar Key Accounts, LLC</td>\n",
       "      <td>Customer</td>\n",
       "      <td>2300</td>\n",
       "      <td>SONEPARKEYACCOUNTS</td>\n",
       "      <td>2300</td>\n",
       "      <td>SONEPARKEYACCOUNTS</td>\n",
       "      <td>0011600001nuEZGAA2</td>\n",
       "    </tr>\n",
       "    <tr>\n",
       "      <th>199906</th>\n",
       "      <td>001PI000004Pw6ZYAS</td>\n",
       "      <td>TRAINING2</td>\n",
       "      <td>Prospect</td>\n",
       "      <td>5770</td>\n",
       "      <td>TRAINING2</td>\n",
       "      <td>&lt;NA&gt;</td>\n",
       "      <td>NaN</td>\n",
       "      <td>NaN</td>\n",
       "    </tr>\n",
       "    <tr>\n",
       "      <th>199907</th>\n",
       "      <td>001A000000JZJarIAH</td>\n",
       "      <td>Ultradent Products, Inc.</td>\n",
       "      <td>Inactive Client</td>\n",
       "      <td>1805</td>\n",
       "      <td>ULTRADENT</td>\n",
       "      <td>1805</td>\n",
       "      <td>ULTRADENT</td>\n",
       "      <td>001A000000JZJarIAH</td>\n",
       "    </tr>\n",
       "  </tbody>\n",
       "</table>\n",
       "</div>"
      ],
      "text/plain": [
       "                ACCOUNT_ID               ACCOUNT_NAME     ACCOUNT_TYPE  \\\n",
       "199903  0011600001uk9uSAAQ   Raymond Storage Concepts         Customer   \n",
       "199904  001G0000010CgQLIA0                 MasterCard         Customer   \n",
       "199905  0011600001nuEZGAA2  Sonepar Key Accounts, LLC         Customer   \n",
       "199906  001PI000004Pw6ZYAS                  TRAINING2         Prospect   \n",
       "199907  001A000000JZJarIAH   Ultradent Products, Inc.  Inactive Client   \n",
       "\n",
       "        INVOICING_CUSTOMER_ID INVOICING_CUSTOMER_NAME  CSRID  \\\n",
       "199903                   2881              RAYMONDSCI   2881   \n",
       "199904                   5103              MASTERCARD   5103   \n",
       "199905                   2300      SONEPARKEYACCOUNTS   2300   \n",
       "199906                   5770               TRAINING2   <NA>   \n",
       "199907                   1805               ULTRADENT   1805   \n",
       "\n",
       "               CSRUsername SalesforceAccountid  \n",
       "199903          RAYMONDSCI  0011600001uk9uSAAQ  \n",
       "199904          MASTERCARD  001G0000010CgQLIA0  \n",
       "199905  SONEPARKEYACCOUNTS  0011600001nuEZGAA2  \n",
       "199906                 NaN                 NaN  \n",
       "199907           ULTRADENT  001A000000JZJarIAH  "
      ]
     },
     "execution_count": 88,
     "metadata": {},
     "output_type": "execute_result"
    }
   ],
   "source": [
    "sf_mapping.shape\n",
    "sf_mapping.head()"
   ]
  },
  {
   "cell_type": "code",
   "execution_count": 89,
   "id": "48acba0f-532e-4286-80ad-0ccc8dd85b15",
   "metadata": {},
   "outputs": [
    {
     "data": {
      "text/plain": [
       "(2044, 8)"
      ]
     },
     "execution_count": 89,
     "metadata": {},
     "output_type": "execute_result"
    },
    {
     "data": {
      "text/html": [
       "<div>\n",
       "<style scoped>\n",
       "    .dataframe tbody tr th:only-of-type {\n",
       "        vertical-align: middle;\n",
       "    }\n",
       "\n",
       "    .dataframe tbody tr th {\n",
       "        vertical-align: top;\n",
       "    }\n",
       "\n",
       "    .dataframe thead th {\n",
       "        text-align: right;\n",
       "    }\n",
       "</style>\n",
       "<table border=\"1\" class=\"dataframe\">\n",
       "  <thead>\n",
       "    <tr style=\"text-align: right;\">\n",
       "      <th></th>\n",
       "      <th>ACCOUNT_ID</th>\n",
       "      <th>ACCOUNT_NAME</th>\n",
       "      <th>ACCOUNT_TYPE</th>\n",
       "      <th>INVOICING_CUSTOMER_ID</th>\n",
       "      <th>INVOICING_CUSTOMER_NAME</th>\n",
       "      <th>CSRID</th>\n",
       "      <th>CSRUsername</th>\n",
       "      <th>SalesforceAccountid</th>\n",
       "    </tr>\n",
       "  </thead>\n",
       "  <tbody>\n",
       "    <tr>\n",
       "      <th>199969</th>\n",
       "      <td>001G000000fva0SIAQ</td>\n",
       "      <td>CEVA Contract Logistics U.S., Inc.</td>\n",
       "      <td>Customer</td>\n",
       "      <td>2167</td>\n",
       "      <td>NaN</td>\n",
       "      <td>2167</td>\n",
       "      <td>INGRAMMICROMOBILITY</td>\n",
       "      <td>001G000001IJ6FxIAL</td>\n",
       "    </tr>\n",
       "    <tr>\n",
       "      <th>199978</th>\n",
       "      <td>0011600001mq1YFAAY</td>\n",
       "      <td>Werner Electric Minnesota</td>\n",
       "      <td>Customer</td>\n",
       "      <td>2292</td>\n",
       "      <td>WERNERMN</td>\n",
       "      <td>2292</td>\n",
       "      <td>VANMETERINC</td>\n",
       "      <td>001A000000Iku09IAB</td>\n",
       "    </tr>\n",
       "    <tr>\n",
       "      <th>201072</th>\n",
       "      <td>0011M00002ZFX0LQAX</td>\n",
       "      <td>Altorfer Industries</td>\n",
       "      <td>Customer</td>\n",
       "      <td>2546</td>\n",
       "      <td>ALTORFERINDUSTRIES</td>\n",
       "      <td>2546</td>\n",
       "      <td>ALTORFER</td>\n",
       "      <td>001A000000JZHnZIAX</td>\n",
       "    </tr>\n",
       "    <tr>\n",
       "      <th>201402</th>\n",
       "      <td>001A000000IkuO6IAJ</td>\n",
       "      <td>Thrifty Supply Company</td>\n",
       "      <td>Customer</td>\n",
       "      <td>3415</td>\n",
       "      <td>NaN</td>\n",
       "      <td>3415</td>\n",
       "      <td>THRIFTYSUPPLY</td>\n",
       "      <td>0011M00002RJJUcQAP</td>\n",
       "    </tr>\n",
       "  </tbody>\n",
       "</table>\n",
       "</div>"
      ],
      "text/plain": [
       "                ACCOUNT_ID                        ACCOUNT_NAME ACCOUNT_TYPE  \\\n",
       "199969  001G000000fva0SIAQ  CEVA Contract Logistics U.S., Inc.     Customer   \n",
       "199978  0011600001mq1YFAAY           Werner Electric Minnesota     Customer   \n",
       "201072  0011M00002ZFX0LQAX                 Altorfer Industries     Customer   \n",
       "201402  001A000000IkuO6IAJ              Thrifty Supply Company     Customer   \n",
       "\n",
       "        INVOICING_CUSTOMER_ID INVOICING_CUSTOMER_NAME  CSRID  \\\n",
       "199969                   2167                     NaN   2167   \n",
       "199978                   2292                WERNERMN   2292   \n",
       "201072                   2546      ALTORFERINDUSTRIES   2546   \n",
       "201402                   3415                     NaN   3415   \n",
       "\n",
       "                CSRUsername SalesforceAccountid  \n",
       "199969  INGRAMMICROMOBILITY  001G000001IJ6FxIAL  \n",
       "199978          VANMETERINC  001A000000Iku09IAB  \n",
       "201072             ALTORFER  001A000000JZHnZIAX  \n",
       "201402        THRIFTYSUPPLY  0011M00002RJJUcQAP  "
      ]
     },
     "execution_count": 89,
     "metadata": {},
     "output_type": "execute_result"
    }
   ],
   "source": [
    "sf_mapping[sf_mapping.ACCOUNT_ID.notnull() & sf_mapping.SalesforceAccountid.notnull()].shape\n",
    "sf_mapping[(sf_mapping.ACCOUNT_ID != sf_mapping.SalesforceAccountid)\\\n",
    "           & sf_mapping.ACCOUNT_ID.notnull()\\\n",
    "           & sf_mapping.SalesforceAccountid.notnull()]"
   ]
  },
  {
   "cell_type": "markdown",
   "id": "c389c886-aa01-4e21-a90d-c2a64d44d028",
   "metadata": {},
   "source": [
    "The mapping from Billing had 3,189 records, each with a distinct CSR ID\n",
    "\n",
    "When joining Salesforce data and the mapping from Billing by the CSR ID, we get 2,044 records in which both sources have both a CSR ID and a Salesforce ID. In all but 4 of them, the mapping of the CSR ID to the Salesforce ID in the mapping from Billing is the same as what we find in Salesforce. The only 4 for which this does not happen are listed above.\n",
    "\n",
    "These are the cases for which we need to decide if we use the mapping from Billing or what we find in Salesforce."
   ]
  },
  {
   "cell_type": "code",
   "execution_count": null,
   "id": "59d4bc7a-319f-46d0-89b2-46549dde3cee",
   "metadata": {},
   "outputs": [],
   "source": []
  },
  {
   "cell_type": "markdown",
   "id": "a2403fe3-6fa6-425a-a7bb-5d22b20ebbfd",
   "metadata": {},
   "source": [
    "## Finance"
   ]
  },
  {
   "cell_type": "code",
   "execution_count": 90,
   "id": "8de1de7a-54e5-49e7-8f42-16c253d4ea5f",
   "metadata": {
    "tags": []
   },
   "outputs": [],
   "source": [
    "finance = pd.read_csv('FINANCE.PRESENTATION.FACT_REVENUE.csv')"
   ]
  },
  {
   "cell_type": "markdown",
   "id": "ed4ad6c3-f0b0-466d-acf4-a54cc1cf0ff6",
   "metadata": {},
   "source": [
    "The financial data is identified by a `CUSTOMER_ID` that looks like the CSR Username"
   ]
  },
  {
   "cell_type": "code",
   "execution_count": 94,
   "id": "9301119e-7edc-4cb9-970e-6a1ee2c38756",
   "metadata": {
    "tags": []
   },
   "outputs": [
    {
     "data": {
      "text/plain": [
       "(2990565, 11)"
      ]
     },
     "execution_count": 94,
     "metadata": {},
     "output_type": "execute_result"
    },
    {
     "data": {
      "text/html": [
       "<div>\n",
       "<style scoped>\n",
       "    .dataframe tbody tr th:only-of-type {\n",
       "        vertical-align: middle;\n",
       "    }\n",
       "\n",
       "    .dataframe tbody tr th {\n",
       "        vertical-align: top;\n",
       "    }\n",
       "\n",
       "    .dataframe thead th {\n",
       "        text-align: right;\n",
       "    }\n",
       "</style>\n",
       "<table border=\"1\" class=\"dataframe\">\n",
       "  <thead>\n",
       "    <tr style=\"text-align: right;\">\n",
       "      <th></th>\n",
       "      <th>CUSTOMER_ID</th>\n",
       "      <th>ACCOUNT_NUMBER</th>\n",
       "      <th>AMOUNT</th>\n",
       "      <th>CURRENCY</th>\n",
       "      <th>ITEM_ID</th>\n",
       "      <th>ENTERED_ON</th>\n",
       "      <th>BOOK_ID</th>\n",
       "      <th>REVENUE_TYPE</th>\n",
       "      <th>DATA_ANALYTICS_PRODUCT_FAMILY</th>\n",
       "      <th>IS_RECURRING_REVENUE</th>\n",
       "      <th>IS_NET_REVENUE</th>\n",
       "    </tr>\n",
       "  </thead>\n",
       "  <tbody>\n",
       "    <tr>\n",
       "      <th>0</th>\n",
       "      <td>SPRINGSWINDOWFASHION</td>\n",
       "      <td>45101</td>\n",
       "      <td>-26.03</td>\n",
       "      <td>NaN</td>\n",
       "      <td>Storage4Y</td>\n",
       "      <td>2022-08-31</td>\n",
       "      <td>ASC606ACCRUAL</td>\n",
       "      <td>Transactional-Invoicing</td>\n",
       "      <td>Invoicing</td>\n",
       "      <td>Yes</td>\n",
       "      <td>True</td>\n",
       "    </tr>\n",
       "    <tr>\n",
       "      <th>1</th>\n",
       "      <td>VERTIV</td>\n",
       "      <td>45101</td>\n",
       "      <td>5.06</td>\n",
       "      <td>NaN</td>\n",
       "      <td>Storage7Y</td>\n",
       "      <td>2022-08-31</td>\n",
       "      <td>ASC606ACCRUAL</td>\n",
       "      <td>Transactional-Invoicing</td>\n",
       "      <td>Invoicing</td>\n",
       "      <td>Yes</td>\n",
       "      <td>True</td>\n",
       "    </tr>\n",
       "    <tr>\n",
       "      <th>2</th>\n",
       "      <td>VERTIV</td>\n",
       "      <td>45101</td>\n",
       "      <td>-5.06</td>\n",
       "      <td>NaN</td>\n",
       "      <td>Storage7Y</td>\n",
       "      <td>2022-08-31</td>\n",
       "      <td>ASC606ACCRUAL</td>\n",
       "      <td>Transactional-Invoicing</td>\n",
       "      <td>Invoicing</td>\n",
       "      <td>Yes</td>\n",
       "      <td>True</td>\n",
       "    </tr>\n",
       "    <tr>\n",
       "      <th>3</th>\n",
       "      <td>MSSUPPLY</td>\n",
       "      <td>45101</td>\n",
       "      <td>3.04</td>\n",
       "      <td>NaN</td>\n",
       "      <td>Storage7Y</td>\n",
       "      <td>2022-08-31</td>\n",
       "      <td>ASC606ACCRUAL</td>\n",
       "      <td>Transactional-Invoicing</td>\n",
       "      <td>Invoicing</td>\n",
       "      <td>Yes</td>\n",
       "      <td>True</td>\n",
       "    </tr>\n",
       "    <tr>\n",
       "      <th>4</th>\n",
       "      <td>MSSUPPLY</td>\n",
       "      <td>45101</td>\n",
       "      <td>-3.04</td>\n",
       "      <td>NaN</td>\n",
       "      <td>Storage7Y</td>\n",
       "      <td>2022-08-31</td>\n",
       "      <td>ASC606ACCRUAL</td>\n",
       "      <td>Transactional-Invoicing</td>\n",
       "      <td>Invoicing</td>\n",
       "      <td>Yes</td>\n",
       "      <td>True</td>\n",
       "    </tr>\n",
       "  </tbody>\n",
       "</table>\n",
       "</div>"
      ],
      "text/plain": [
       "            CUSTOMER_ID  ACCOUNT_NUMBER  AMOUNT  CURRENCY    ITEM_ID  \\\n",
       "0  SPRINGSWINDOWFASHION           45101  -26.03       NaN  Storage4Y   \n",
       "1                VERTIV           45101    5.06       NaN  Storage7Y   \n",
       "2                VERTIV           45101   -5.06       NaN  Storage7Y   \n",
       "3              MSSUPPLY           45101    3.04       NaN  Storage7Y   \n",
       "4              MSSUPPLY           45101   -3.04       NaN  Storage7Y   \n",
       "\n",
       "   ENTERED_ON        BOOK_ID             REVENUE_TYPE  \\\n",
       "0  2022-08-31  ASC606ACCRUAL  Transactional-Invoicing   \n",
       "1  2022-08-31  ASC606ACCRUAL  Transactional-Invoicing   \n",
       "2  2022-08-31  ASC606ACCRUAL  Transactional-Invoicing   \n",
       "3  2022-08-31  ASC606ACCRUAL  Transactional-Invoicing   \n",
       "4  2022-08-31  ASC606ACCRUAL  Transactional-Invoicing   \n",
       "\n",
       "  DATA_ANALYTICS_PRODUCT_FAMILY IS_RECURRING_REVENUE  IS_NET_REVENUE  \n",
       "0                     Invoicing                  Yes            True  \n",
       "1                     Invoicing                  Yes            True  \n",
       "2                     Invoicing                  Yes            True  \n",
       "3                     Invoicing                  Yes            True  \n",
       "4                     Invoicing                  Yes            True  "
      ]
     },
     "execution_count": 94,
     "metadata": {},
     "output_type": "execute_result"
    }
   ],
   "source": [
    "finance.shape\n",
    "finance.head()"
   ]
  },
  {
   "cell_type": "code",
   "execution_count": 95,
   "id": "330bf4c6-5d30-45dd-9dc9-4d5c186a9e4d",
   "metadata": {
    "tags": []
   },
   "outputs": [
    {
     "data": {
      "text/plain": [
       "2125"
      ]
     },
     "execution_count": 95,
     "metadata": {},
     "output_type": "execute_result"
    }
   ],
   "source": [
    "finance[finance.CUSTOMER_ID != '(blank)'].CUSTOMER_ID.dropna().nunique()\n",
    "finance_csr_usernames = finance[finance.CUSTOMER_ID != '(blank)'].CUSTOMER_ID.dropna().unique().tolist()"
   ]
  },
  {
   "cell_type": "markdown",
   "id": "125632d1-ddf9-4a00-90ea-9b7fcc76d4da",
   "metadata": {},
   "source": [
    "Removing the rows for which the `CUSTOMER_ID` is `(blank)` in the Finance data, we are left with 2,125 distinct CSR Usernames"
   ]
  },
  {
   "cell_type": "code",
   "execution_count": 97,
   "id": "ec7ea802-ad80-4d5b-b4ed-62e1037e440b",
   "metadata": {
    "tags": []
   },
   "outputs": [
    {
     "data": {
      "text/plain": [
       "3189"
      ]
     },
     "execution_count": 97,
     "metadata": {},
     "output_type": "execute_result"
    }
   ],
   "source": [
    "mapping_csr_usernames = mapping.CSRUsername.dropna().unique().tolist()\n",
    "len(mapping_csr_usernames)"
   ]
  },
  {
   "cell_type": "markdown",
   "id": "53db1fc0-8508-40d4-b3da-4f9c8432dfcd",
   "metadata": {},
   "source": [
    "As we saw earlier with the IDs, there are 3,189 distinct CSR USERNAMES in the mapping from Billing"
   ]
  },
  {
   "cell_type": "code",
   "execution_count": 98,
   "id": "20ceb6ba-96e2-45cc-818a-8bb414c1d8e2",
   "metadata": {
    "tags": []
   },
   "outputs": [
    {
     "data": {
      "text/plain": [
       "3053"
      ]
     },
     "execution_count": 98,
     "metadata": {},
     "output_type": "execute_result"
    }
   ],
   "source": [
    "salesforce_csr_usernames = salesforce1.INVOICING_CUSTOMER_NAME.dropna().unique().tolist()\n",
    "len(salesforce_csr_usernames)"
   ]
  },
  {
   "cell_type": "markdown",
   "id": "7a4f2925-ffc8-4bf9-b421-9fb2e97c63fe",
   "metadata": {},
   "source": [
    "And there are 3,053 distinct CSR Usernames in Salesforce"
   ]
  },
  {
   "cell_type": "markdown",
   "id": "aeca6f23-6d7e-4aed-b0f5-216081952382",
   "metadata": {},
   "source": [
    "Remember that, earlier, we saw that Salesforce had 2,450 distinct CSR IDs. This means that the CSR Usernames appear to be a more complete CSR identifier than the CSR ID within Salesforce "
   ]
  },
  {
   "cell_type": "code",
   "execution_count": 112,
   "id": "0eddaaf8-bcb7-4c56-a864-84a7ba025ce2",
   "metadata": {
    "tags": []
   },
   "outputs": [
    {
     "data": {
      "text/plain": [
       "2"
      ]
     },
     "execution_count": 112,
     "metadata": {},
     "output_type": "execute_result"
    },
    {
     "data": {
      "text/plain": [
       "601"
      ]
     },
     "execution_count": 112,
     "metadata": {},
     "output_type": "execute_result"
    },
    {
     "data": {
      "text/plain": [
       "2450"
      ]
     },
     "execution_count": 112,
     "metadata": {},
     "output_type": "execute_result"
    }
   ],
   "source": [
    "salesforce1[salesforce1.INVOICING_CUSTOMER_NAME.isnull() & salesforce1.INVOICING_CUSTOMER_ID.notnull()].INVOICING_CUSTOMER_ID.nunique()\n",
    "salesforce1[salesforce1.INVOICING_CUSTOMER_NAME.notnull() & salesforce1.INVOICING_CUSTOMER_ID.isnull()].INVOICING_CUSTOMER_NAME.nunique()\n",
    "salesforce1[salesforce1.INVOICING_CUSTOMER_NAME.notnull() & salesforce1.INVOICING_CUSTOMER_ID.notnull()].INVOICING_CUSTOMER_ID.nunique()"
   ]
  },
  {
   "cell_type": "markdown",
   "id": "642907cf-1172-4a18-aed8-e0c4570e869c",
   "metadata": {},
   "source": [
    "In almost every case in which there is a CSR Username in Salesforce there's a CSR ID (except in two cases), whereas there are 601 cases in which there is a CSR Username but not a CSR ID."
   ]
  },
  {
   "cell_type": "markdown",
   "id": "c7debcda-94ad-4b0d-83da-882195dd02cc",
   "metadata": {},
   "source": []
  },
  {
   "cell_type": "code",
   "execution_count": 101,
   "id": "9318c2c1-fc32-48b6-b200-5dfcac2a21ac",
   "metadata": {
    "tags": []
   },
   "outputs": [
    {
     "data": {
      "text/plain": [
       "71"
      ]
     },
     "execution_count": 101,
     "metadata": {},
     "output_type": "execute_result"
    }
   ],
   "source": [
    "only_finance_csr_usernames = set(finance_csr_usernames) - set(mapping_csr_usernames) - set(salesforce_csr_usernames)\n",
    "len(only_finance_csr_usernames)"
   ]
  },
  {
   "cell_type": "markdown",
   "id": "77f63592-6579-458c-8007-de29b975f322",
   "metadata": {},
   "source": [
    "There are 71 CSR Usernames in the Finance dataset that can't be found in the mapping from Billing or in Salesforce"
   ]
  },
  {
   "cell_type": "code",
   "execution_count": 102,
   "id": "06ae4dc2-541e-4ab3-8162-50bfa288ad63",
   "metadata": {
    "tags": []
   },
   "outputs": [],
   "source": [
    "only_finance_csr_usernames_ls = list(only_finance_csr_usernames)\n",
    "only_finance_csr_usernames_ls.sort()"
   ]
  },
  {
   "cell_type": "code",
   "execution_count": 103,
   "id": "7aa44676-fc06-412f-be93-b9cf6cc97532",
   "metadata": {
    "tags": []
   },
   "outputs": [
    {
     "name": "stdout",
     "output_type": "stream",
     "text": [
      "AMERICANVALVE, ANIXTERPOWERELECTRIC, ANIXTERPOWERUTILITIE, BAYER-AH, BILLGO, BORNQUIST, BRESCOINC, BROCKWHITE, BUILDERSFIRST, CEMSTONEREADYMIX, CENTRALSTATES, CLASSICAUTO, CPSDISTRIBUTORS, CROWNKEYBANK, CSI, DLPARTSCO, DODGEDATA, DORMAKABABESTACCESS, EXIDE, FCXKEYBANK, FISGLOBAL, FORTUNE, FRENCHGERLEMAN, FRIEDMANELECTRIC, FROSTELECTRIC, GENERALPLUMBING, GLOBALCC, GRAYMATTERSYSTEMS, HDSUPPLYFACILITYCR, HDSUPPLYWHITECAP, HOLTTX, ICONTROLLER, INWORKS, ITA, J-MELECTRICSUPPLY, JLESCO, JPMC, KNAACK, KONTOORBRANDS, MARCOLIN, MASCO, MATHESELECTRIC, MERCHANTSMETALS, MIDLTG, MORRISONMVP, NETWES, ONEILELECTRIC, ONESOURCEWATER, ORDER2CASH, OVERKAMPF, PANORAMIC, PATTENCAT, PCISCIENTIFIC, REXELENERGY, ROCKRIVERILWATER, SERVICESUPPLYOV, STANLEYMECHANICAL, STANLEYSUPPLYSERVICE, STANLEYVIDMAR, STENNER, SUNSTATEEQ, TAYLOR-DEMERS, TENETSOLUTIONS, THYSSENKRUPPELEVATOR, TOSHIBAAMS, UESOMAHA, USCOINC, VWR, WEIMER-BEARING, WHITEOAKCF, WILLOWELECTRIC\n"
     ]
    }
   ],
   "source": [
    "print(*only_finance_csr_usernames_ls, sep=', ')"
   ]
  },
  {
   "cell_type": "code",
   "execution_count": 104,
   "id": "c662575b-c37a-477c-ad8d-b299df7ce16a",
   "metadata": {
    "tags": []
   },
   "outputs": [
    {
     "data": {
      "text/html": [
       "<div>\n",
       "<style scoped>\n",
       "    .dataframe tbody tr th:only-of-type {\n",
       "        vertical-align: middle;\n",
       "    }\n",
       "\n",
       "    .dataframe tbody tr th {\n",
       "        vertical-align: top;\n",
       "    }\n",
       "\n",
       "    .dataframe thead th {\n",
       "        text-align: right;\n",
       "    }\n",
       "</style>\n",
       "<table border=\"1\" class=\"dataframe\">\n",
       "  <thead>\n",
       "    <tr style=\"text-align: right;\">\n",
       "      <th></th>\n",
       "      <th>CustomerId</th>\n",
       "      <th>UserName</th>\n",
       "      <th>EmailPrimary</th>\n",
       "      <th>CustomerStatus</th>\n",
       "      <th>CustomerIdAbs</th>\n",
       "    </tr>\n",
       "  </thead>\n",
       "  <tbody>\n",
       "    <tr>\n",
       "      <th>2432</th>\n",
       "      <td>2520</td>\n",
       "      <td>HOLTTX</td>\n",
       "      <td>gretchen.stepke@holtcat.com</td>\n",
       "      <td>99</td>\n",
       "      <td>2520</td>\n",
       "    </tr>\n",
       "    <tr>\n",
       "      <th>2515</th>\n",
       "      <td>2605</td>\n",
       "      <td>MORRISONMVP</td>\n",
       "      <td>NaN</td>\n",
       "      <td>99</td>\n",
       "      <td>2605</td>\n",
       "    </tr>\n",
       "  </tbody>\n",
       "</table>\n",
       "</div>"
      ],
      "text/plain": [
       "      CustomerId     UserName                 EmailPrimary  CustomerStatus  \\\n",
       "2432        2520       HOLTTX  gretchen.stepke@holtcat.com              99   \n",
       "2515        2605  MORRISONMVP                          NaN              99   \n",
       "\n",
       "      CustomerIdAbs  \n",
       "2432           2520  \n",
       "2515           2605  "
      ]
     },
     "execution_count": 104,
     "metadata": {},
     "output_type": "execute_result"
    }
   ],
   "source": [
    "csr[csr.UserName.isin(only_finance_csr_usernames_ls)]"
   ]
  },
  {
   "cell_type": "markdown",
   "id": "20af802e-bc38-4e72-b700-2283beda65e0",
   "metadata": {},
   "source": [
    "Only 2 of the 71 appears in CSR, which seems weird. Probably, what we see in Finance are not CSR Usernames, but Intacct IDs, which I think they said are almost always the same, but not always. We should ask them"
   ]
  },
  {
   "cell_type": "code",
   "execution_count": null,
   "id": "d10f1539-7075-4732-8e81-6e8459eda6d2",
   "metadata": {},
   "outputs": [],
   "source": []
  },
  {
   "cell_type": "markdown",
   "id": "0957f76d-b720-493a-ace8-e4bca9857a0f",
   "metadata": {},
   "source": [
    "## Clarizen"
   ]
  },
  {
   "cell_type": "code",
   "execution_count": 105,
   "id": "c19c7446-741f-4588-a5b3-9b6408a7afb9",
   "metadata": {
    "tags": []
   },
   "outputs": [],
   "source": [
    "clarizen = pd.read_csv('CLARIZEN.RAW.PROJECT.csv')"
   ]
  },
  {
   "cell_type": "code",
   "execution_count": 106,
   "id": "6541bb4f-4341-48a6-8d62-7bf813b04605",
   "metadata": {
    "tags": []
   },
   "outputs": [],
   "source": [
    "clarizen.columns = ['ID', 'NAME', 'C_SALESFORCEACCOUNTID', 'STATE', 'PHASE', 'TRACKSTATUS', 'PROJECT', 'C_CSRID', 'C_CUSTOMER']"
   ]
  },
  {
   "cell_type": "code",
   "execution_count": 107,
   "id": "e8217915-016d-4a05-94b1-6c0ffeb1b344",
   "metadata": {
    "tags": []
   },
   "outputs": [],
   "source": [
    "clarizen.C_CSRID = clarizen.C_CSRID.astype('Int64')"
   ]
  },
  {
   "cell_type": "code",
   "execution_count": 108,
   "id": "e068eedc-08a3-4755-be5b-bdf45dc98c55",
   "metadata": {
    "tags": []
   },
   "outputs": [
    {
     "data": {
      "text/plain": [
       "(13759, 9)"
      ]
     },
     "execution_count": 108,
     "metadata": {},
     "output_type": "execute_result"
    },
    {
     "data": {
      "text/html": [
       "<div>\n",
       "<style scoped>\n",
       "    .dataframe tbody tr th:only-of-type {\n",
       "        vertical-align: middle;\n",
       "    }\n",
       "\n",
       "    .dataframe tbody tr th {\n",
       "        vertical-align: top;\n",
       "    }\n",
       "\n",
       "    .dataframe thead th {\n",
       "        text-align: right;\n",
       "    }\n",
       "</style>\n",
       "<table border=\"1\" class=\"dataframe\">\n",
       "  <thead>\n",
       "    <tr style=\"text-align: right;\">\n",
       "      <th></th>\n",
       "      <th>ID</th>\n",
       "      <th>NAME</th>\n",
       "      <th>C_SALESFORCEACCOUNTID</th>\n",
       "      <th>STATE</th>\n",
       "      <th>PHASE</th>\n",
       "      <th>TRACKSTATUS</th>\n",
       "      <th>PROJECT</th>\n",
       "      <th>C_CSRID</th>\n",
       "      <th>C_CUSTOMER</th>\n",
       "    </tr>\n",
       "  </thead>\n",
       "  <tbody>\n",
       "    <tr>\n",
       "      <th>0</th>\n",
       "      <td>/Project/50bvyirhry1f00zy8g4fok6p93</td>\n",
       "      <td>CR sessie 259651</td>\n",
       "      <td>0018Y00002kWPS7QAO</td>\n",
       "      <td>Draft</td>\n",
       "      <td>Analysis</td>\n",
       "      <td>Not Active</td>\n",
       "      <td>50bvyirhry1f00zy8g4fok6p93</td>\n",
       "      <td>&lt;NA&gt;</td>\n",
       "      <td>NaN</td>\n",
       "    </tr>\n",
       "    <tr>\n",
       "      <th>1</th>\n",
       "      <td>/Project/ycywx2hskqtfoiuxkjaletr3125</td>\n",
       "      <td>WSM-INDUSTRIES - WSM Industries (820)- eSoluti...</td>\n",
       "      <td>NaN</td>\n",
       "      <td>Active</td>\n",
       "      <td>Evaluation</td>\n",
       "      <td>On Track</td>\n",
       "      <td>ycywx2hskqtfoiuxkjaletr3125</td>\n",
       "      <td>820</td>\n",
       "      <td>WSM-INDUSTRIES</td>\n",
       "    </tr>\n",
       "    <tr>\n",
       "      <th>2</th>\n",
       "      <td>/Project/34uk39jafd0f9dzx1sxahq1jr3</td>\n",
       "      <td>CR 1609</td>\n",
       "      <td>001PI0000098oLuYAI</td>\n",
       "      <td>Draft</td>\n",
       "      <td>Analysis</td>\n",
       "      <td>Not Active</td>\n",
       "      <td>34uk39jafd0f9dzx1sxahq1jr3</td>\n",
       "      <td>&lt;NA&gt;</td>\n",
       "      <td>NaN</td>\n",
       "    </tr>\n",
       "    <tr>\n",
       "      <th>3</th>\n",
       "      <td>/Project/2jxibvpmxku1ku7xed8z72xjw3</td>\n",
       "      <td>CR-1598</td>\n",
       "      <td>0018Y00002kWPHSQA4</td>\n",
       "      <td>Draft</td>\n",
       "      <td>Analysis</td>\n",
       "      <td>Not Active</td>\n",
       "      <td>2jxibvpmxku1ku7xed8z72xjw3</td>\n",
       "      <td>&lt;NA&gt;</td>\n",
       "      <td>NaN</td>\n",
       "    </tr>\n",
       "    <tr>\n",
       "      <th>4</th>\n",
       "      <td>/Project/3p8cf76y16xys6u677542up1h1152</td>\n",
       "      <td>LENNOX - Lennox International, Inc. (2813) - e...</td>\n",
       "      <td>NaN</td>\n",
       "      <td>Active</td>\n",
       "      <td>Analysis</td>\n",
       "      <td>At Risk</td>\n",
       "      <td>3p8cf76y16xys6u677542up1h1152</td>\n",
       "      <td>2813</td>\n",
       "      <td>LENNOX</td>\n",
       "    </tr>\n",
       "  </tbody>\n",
       "</table>\n",
       "</div>"
      ],
      "text/plain": [
       "                                       ID  \\\n",
       "0     /Project/50bvyirhry1f00zy8g4fok6p93   \n",
       "1    /Project/ycywx2hskqtfoiuxkjaletr3125   \n",
       "2     /Project/34uk39jafd0f9dzx1sxahq1jr3   \n",
       "3     /Project/2jxibvpmxku1ku7xed8z72xjw3   \n",
       "4  /Project/3p8cf76y16xys6u677542up1h1152   \n",
       "\n",
       "                                                NAME C_SALESFORCEACCOUNTID  \\\n",
       "0                                   CR sessie 259651    0018Y00002kWPS7QAO   \n",
       "1  WSM-INDUSTRIES - WSM Industries (820)- eSoluti...                   NaN   \n",
       "2                                            CR 1609    001PI0000098oLuYAI   \n",
       "3                                            CR-1598    0018Y00002kWPHSQA4   \n",
       "4  LENNOX - Lennox International, Inc. (2813) - e...                   NaN   \n",
       "\n",
       "    STATE       PHASE TRACKSTATUS                        PROJECT  C_CSRID  \\\n",
       "0   Draft    Analysis  Not Active     50bvyirhry1f00zy8g4fok6p93     <NA>   \n",
       "1  Active  Evaluation    On Track    ycywx2hskqtfoiuxkjaletr3125      820   \n",
       "2   Draft    Analysis  Not Active     34uk39jafd0f9dzx1sxahq1jr3     <NA>   \n",
       "3   Draft    Analysis  Not Active     2jxibvpmxku1ku7xed8z72xjw3     <NA>   \n",
       "4  Active    Analysis     At Risk  3p8cf76y16xys6u677542up1h1152     2813   \n",
       "\n",
       "       C_CUSTOMER  \n",
       "0             NaN  \n",
       "1  WSM-INDUSTRIES  \n",
       "2             NaN  \n",
       "3             NaN  \n",
       "4          LENNOX  "
      ]
     },
     "execution_count": 108,
     "metadata": {},
     "output_type": "execute_result"
    }
   ],
   "source": [
    "clarizen.shape\n",
    "clarizen.head()"
   ]
  },
  {
   "cell_type": "code",
   "execution_count": 121,
   "id": "923f0d1d-f6fb-40b2-9526-f0af4c581c63",
   "metadata": {
    "tags": []
   },
   "outputs": [
    {
     "data": {
      "text/plain": [
       "2244"
      ]
     },
     "execution_count": 121,
     "metadata": {},
     "output_type": "execute_result"
    },
    {
     "data": {
      "text/plain": [
       "1411"
      ]
     },
     "execution_count": 121,
     "metadata": {},
     "output_type": "execute_result"
    },
    {
     "data": {
      "text/plain": [
       "1980"
      ]
     },
     "execution_count": 121,
     "metadata": {},
     "output_type": "execute_result"
    }
   ],
   "source": [
    "clarizen.C_SALESFORCEACCOUNTID.nunique()\n",
    "clarizen.C_CSRID.nunique()\n",
    "clarizen.C_CUSTOMER.nunique()"
   ]
  },
  {
   "cell_type": "code",
   "execution_count": 138,
   "id": "dd2048f9-63da-4615-96e6-652a3a6cf8d9",
   "metadata": {
    "tags": []
   },
   "outputs": [
    {
     "data": {
      "text/plain": [
       "7754"
      ]
     },
     "execution_count": 138,
     "metadata": {},
     "output_type": "execute_result"
    },
    {
     "data": {
      "text/plain": [
       "7838"
      ]
     },
     "execution_count": 138,
     "metadata": {},
     "output_type": "execute_result"
    },
    {
     "data": {
      "text/plain": [
       "11154"
      ]
     },
     "execution_count": 138,
     "metadata": {},
     "output_type": "execute_result"
    }
   ],
   "source": [
    "clarizen.C_SALESFORCEACCOUNTID.count()\n",
    "clarizen.C_CSRID.count()\n",
    "clarizen.C_CUSTOMER.count()"
   ]
  },
  {
   "cell_type": "markdown",
   "id": "d52d95e1-bd07-4a05-8907-ccb86ba0aaea",
   "metadata": {},
   "source": [
    "In Clarizen, it seems like the CSR Username is the one that can be found in the largest number of records, although there are more unique Salesforce IDs"
   ]
  },
  {
   "cell_type": "code",
   "execution_count": 120,
   "id": "3642f78c-085b-4b48-8d8b-3a3c71035978",
   "metadata": {
    "tags": []
   },
   "outputs": [
    {
     "data": {
      "text/plain": [
       "C_CUSTOMER\n",
       "2    37\n",
       "3     5\n",
       "Name: count, dtype: int64"
      ]
     },
     "execution_count": 120,
     "metadata": {},
     "output_type": "execute_result"
    }
   ],
   "source": [
    "cl_csrid_dist_usern = clarizen.groupby('C_CSRID').C_CUSTOMER.nunique().sort_values(ascending=False)\n",
    "cl_csrid_dist_usern[cl_csrid_dist_usern > 1].value_counts()"
   ]
  },
  {
   "cell_type": "code",
   "execution_count": 121,
   "id": "cb2c38c9-2f21-49f8-8fee-a6cad71da308",
   "metadata": {
    "tags": []
   },
   "outputs": [
    {
     "data": {
      "text/plain": [
       "C_CSRID\n",
       "2    25\n",
       "Name: count, dtype: int64"
      ]
     },
     "execution_count": 121,
     "metadata": {},
     "output_type": "execute_result"
    }
   ],
   "source": [
    "cl_usern_dist_csrid = clarizen.groupby('C_CUSTOMER').C_CSRID.nunique().sort_values(ascending=False)\n",
    "cl_usern_dist_csrid[cl_usern_dist_csrid > 1].value_counts()"
   ]
  },
  {
   "cell_type": "markdown",
   "id": "34439e00-6fb2-4f2d-be07-52e1196c0edc",
   "metadata": {},
   "source": [
    "As we can see, there are 25 cases in Clarizen in which a given CSR Username is associated with two different CSR IDs. Conversely, in 37 cases a given CSR ID is associated with 2 different CSR Usernames, and in 5 cases it is associated with 3 different CSR Usernames"
   ]
  },
  {
   "cell_type": "code",
   "execution_count": 123,
   "id": "f3a7cd89-b69e-4809-abf0-22b29e2d20dc",
   "metadata": {
    "tags": []
   },
   "outputs": [
    {
     "data": {
      "text/plain": [
       "C_SALESFORCEACCOUNTID\n",
       "2    10\n",
       "Name: count, dtype: int64"
      ]
     },
     "execution_count": 123,
     "metadata": {},
     "output_type": "execute_result"
    }
   ],
   "source": [
    "cl_usern_dist_sfid = clarizen.groupby('C_CUSTOMER').C_SALESFORCEACCOUNTID.nunique()\n",
    "cl_usern_dist_sfid[cl_usern_dist_sfid > 1].value_counts()"
   ]
  },
  {
   "cell_type": "code",
   "execution_count": 124,
   "id": "93387f1e-ee5f-4083-a609-a03c202512a6",
   "metadata": {
    "tags": []
   },
   "outputs": [
    {
     "data": {
      "text/plain": [
       "C_CUSTOMER\n",
       "2    13\n",
       "3     1\n",
       "Name: count, dtype: int64"
      ]
     },
     "execution_count": 124,
     "metadata": {},
     "output_type": "execute_result"
    }
   ],
   "source": [
    "cl_sfid_dist_usern = clarizen.groupby('C_SALESFORCEACCOUNTID').C_CUSTOMER.nunique()\n",
    "cl_sfid_dist_usern[cl_sfid_dist_usern > 1].value_counts()"
   ]
  },
  {
   "cell_type": "markdown",
   "id": "610690a4-b3e4-4413-af0a-f5a987411eca",
   "metadata": {},
   "source": [
    "Similarly, there are cases in which Salesforce IDs and CSR Usernames are not associated with the same one of the other"
   ]
  },
  {
   "cell_type": "code",
   "execution_count": null,
   "id": "46e2daf7-783e-4edd-9a68-214620825a6d",
   "metadata": {},
   "outputs": [],
   "source": []
  },
  {
   "cell_type": "code",
   "execution_count": 130,
   "id": "bb74dfd4-ec11-4510-af57-8d3439aef4c5",
   "metadata": {
    "tags": []
   },
   "outputs": [
    {
     "data": {
      "text/plain": [
       "{'00116000025MyrDAAS',\n",
       " '0018Y00002kWQkHQAW',\n",
       " '001A000000IkugFIAR',\n",
       " '001A000000Ikv5cIAB'}"
      ]
     },
     "execution_count": 130,
     "metadata": {},
     "output_type": "execute_result"
    }
   ],
   "source": [
    "set(clarizen.C_SALESFORCEACCOUNTID.str.replace('Account.', '').dropna().unique().tolist()) - set(salesforce1.ACCOUNT_ID.dropna().unique().tolist())"
   ]
  },
  {
   "cell_type": "markdown",
   "id": "77b39917-f075-431d-b703-ed6f5c11e455",
   "metadata": {},
   "source": [
    "There are 4 Salesforce IDs in Clarizen that don't appear in Salesforce"
   ]
  },
  {
   "cell_type": "code",
   "execution_count": 131,
   "id": "646fea47-5f69-4ae1-a60f-d41b230fd8de",
   "metadata": {
    "tags": []
   },
   "outputs": [],
   "source": [
    "all_csr_ids = list(only_sf) + \\\n",
    "    list(only_csr) + \\\n",
    "    list(only_sf_csr) + \\\n",
    "    list(only_mapping) + \\\n",
    "    list(only_sf_mapping) + \\\n",
    "    list(only_csr_mapping) + \\\n",
    "    list(sf_csr_mapping)"
   ]
  },
  {
   "cell_type": "code",
   "execution_count": 132,
   "id": "5217e3cc-6803-4b3b-b9e3-d36d82aaaaca",
   "metadata": {
    "tags": []
   },
   "outputs": [
    {
     "data": {
      "text/plain": [
       "4202"
      ]
     },
     "execution_count": 132,
     "metadata": {},
     "output_type": "execute_result"
    }
   ],
   "source": [
    "len(all_csr_ids)"
   ]
  },
  {
   "cell_type": "code",
   "execution_count": 133,
   "id": "df3932b1-11c1-4314-bb08-c96c7c0c705d",
   "metadata": {
    "tags": []
   },
   "outputs": [
    {
     "data": {
      "text/plain": [
       "set()"
      ]
     },
     "execution_count": 133,
     "metadata": {},
     "output_type": "execute_result"
    }
   ],
   "source": [
    "set(clarizen.C_CSRID.dropna().unique().tolist()) - set(all_csr_ids)"
   ]
  },
  {
   "cell_type": "markdown",
   "id": "29b1110d-47c0-4034-b896-4d41eea1fcad",
   "metadata": {},
   "source": [
    "All CSR IDs in Clarizen appear in the CSR data"
   ]
  },
  {
   "cell_type": "code",
   "execution_count": 134,
   "id": "7202b028-891c-4469-b772-7577555d09ce",
   "metadata": {
    "tags": []
   },
   "outputs": [
    {
     "data": {
      "text/plain": [
       "4148"
      ]
     },
     "execution_count": 134,
     "metadata": {},
     "output_type": "execute_result"
    }
   ],
   "source": [
    "all_csr_usernames = set(finance_csr_usernames + mapping_csr_usernames + salesforce_csr_usernames)\n",
    "len(all_csr_usernames)"
   ]
  },
  {
   "cell_type": "code",
   "execution_count": 135,
   "id": "322c7e2e-3a0b-444c-9f81-5e479029dfa1",
   "metadata": {},
   "outputs": [
    {
     "data": {
      "text/plain": [
       "157"
      ]
     },
     "execution_count": 135,
     "metadata": {},
     "output_type": "execute_result"
    }
   ],
   "source": [
    "len(set(clarizen.C_CUSTOMER.dropna().unique().tolist()) - all_csr_usernames)"
   ]
  },
  {
   "cell_type": "markdown",
   "id": "759738ec-c735-4890-98f3-3870d1fc0ead",
   "metadata": {},
   "source": [
    "There are 157 CSR UserNames in Clarizen that can't be found in Salesforce, the mapping from Billing, or the Finance data"
   ]
  },
  {
   "cell_type": "markdown",
   "id": "a1030514-8c45-4de8-864c-17ae2b67ee08",
   "metadata": {},
   "source": [
    "It's hard from this to say how we should connect the Clarizen data to the other sources"
   ]
  },
  {
   "cell_type": "code",
   "execution_count": null,
   "id": "5a85ffe9-3ce3-4a37-a588-f14bf3ebd920",
   "metadata": {},
   "outputs": [],
   "source": []
  },
  {
   "cell_type": "markdown",
   "id": "d3e933c7-48dd-4ef9-b017-007cc9e9abf1",
   "metadata": {},
   "source": [
    "## Fastlane"
   ]
  },
  {
   "cell_type": "markdown",
   "id": "65af86ed-5ffb-43e2-9090-64b33a42ea20",
   "metadata": {},
   "source": [
    "### Products report"
   ]
  },
  {
   "cell_type": "code",
   "execution_count": 140,
   "id": "68877204-8d7f-47e2-8dbf-c5024f06a224",
   "metadata": {
    "tags": []
   },
   "outputs": [
    {
     "data": {
      "text/plain": [
       "(59486, 17)"
      ]
     },
     "execution_count": 140,
     "metadata": {},
     "output_type": "execute_result"
    }
   ],
   "source": [
    "fl_products = pd.read_csv('CUSTOMER360.RAW.ACCOUNTPRODUCTS.csv')\n",
    "fl_products.shape"
   ]
  },
  {
   "cell_type": "code",
   "execution_count": 143,
   "id": "fbd36b9e-b197-49bb-86c9-77294f7abc04",
   "metadata": {
    "tags": []
   },
   "outputs": [
    {
     "data": {
      "text/plain": [
       "Index(['ACCOUNT_NAME', 'PRODUCT_NAME', 'PRODUCT_FAMILY', 'ANNIVERSARY_DATE',\n",
       "       'BP_PRODUCT_START_DATE', 'BP_PRODUCT_END_DATE', 'RATE_TYPE',\n",
       "       'SF_ACCOUNT_ID', 'BILLING_CYCLE', 'CSR_USERNAME',\n",
       "       'INCREASE_CAP_PERCENT', 'INCREASE_NOTICE_PERIOD', 'END_OF_PRICE_FREEZE',\n",
       "       'CONTRACT_EXECUTION_DATE', 'SUBSCRIPTION_RENEWAL_TYPE',\n",
       "       'COLLECTIONS_BILLING_MODE', 'LOADED_AT'],\n",
       "      dtype='object')"
      ]
     },
     "execution_count": 143,
     "metadata": {},
     "output_type": "execute_result"
    }
   ],
   "source": [
    "fl_products.columns"
   ]
  },
  {
   "cell_type": "markdown",
   "id": "27b5fa1a-ee42-4905-a178-c8fbdc36f172",
   "metadata": {},
   "source": [
    "The two main identifiers in this report are Salesforce ID and CSR Username"
   ]
  },
  {
   "cell_type": "code",
   "execution_count": 145,
   "id": "5849b125-d8f2-4723-b65a-be07ea47bd6b",
   "metadata": {
    "tags": []
   },
   "outputs": [],
   "source": [
    "fl_pr_sf_ids = fl_products.SF_ACCOUNT_ID.dropna().unique().tolist()\n",
    "fl_pr_csr_usernames = fl_products.CSR_USERNAME.dropna().unique().tolist()"
   ]
  },
  {
   "cell_type": "code",
   "execution_count": 146,
   "id": "2a4aefcf-6404-4bd2-a25b-1ab5b919ae59",
   "metadata": {
    "tags": []
   },
   "outputs": [
    {
     "data": {
      "text/plain": [
       "1591"
      ]
     },
     "execution_count": 146,
     "metadata": {},
     "output_type": "execute_result"
    },
    {
     "data": {
      "text/plain": [
       "1261"
      ]
     },
     "execution_count": 146,
     "metadata": {},
     "output_type": "execute_result"
    }
   ],
   "source": [
    "len(fl_pr_sf_ids)\n",
    "len(fl_pr_csr_usernames)"
   ]
  },
  {
   "cell_type": "code",
   "execution_count": 147,
   "id": "0070ffdf-25ce-4882-9e1d-b41a9f01e1db",
   "metadata": {
    "tags": []
   },
   "outputs": [
    {
     "data": {
      "text/plain": [
       "22408"
      ]
     },
     "execution_count": 147,
     "metadata": {},
     "output_type": "execute_result"
    },
    {
     "data": {
      "text/plain": [
       "27252"
      ]
     },
     "execution_count": 147,
     "metadata": {},
     "output_type": "execute_result"
    }
   ],
   "source": [
    "fl_products.SF_ACCOUNT_ID.dropna().count()\n",
    "fl_products.CSR_USERNAME.dropna().count()"
   ]
  },
  {
   "cell_type": "markdown",
   "id": "817b86e8-7cb3-49e2-a9ef-37f1fcea47d7",
   "metadata": {},
   "source": [
    "There are more unique Salesforce IDs, but more rows have CSR Username than SF ID"
   ]
  },
  {
   "cell_type": "code",
   "execution_count": 148,
   "id": "73d95084-8b95-4acd-9422-0df19bf521f4",
   "metadata": {
    "tags": []
   },
   "outputs": [
    {
     "data": {
      "text/plain": [
       "742"
      ]
     },
     "execution_count": 148,
     "metadata": {},
     "output_type": "execute_result"
    }
   ],
   "source": [
    "len(set(fl_pr_sf_ids) - set(salesforce1.ACCOUNT_ID.dropna().unique().tolist()))"
   ]
  },
  {
   "cell_type": "markdown",
   "id": "771d7fbf-d31b-4fc6-9fb8-9ed94c7f927a",
   "metadata": {},
   "source": [
    "It looks like there are 742 Salesforce IDs in the Fastlane Product report that don't appear in SF, which seems very strange"
   ]
  },
  {
   "cell_type": "markdown",
   "id": "8243e3a7-9ad0-4900-a499-a56a0658c465",
   "metadata": {},
   "source": [
    "However, the Salesforce IDs in this data appear to be modified to include extra information that indicates the billing cycle. We'll remove this extra info."
   ]
  },
  {
   "cell_type": "code",
   "execution_count": 149,
   "id": "2e11c681-bb09-406b-8a21-d98507d728de",
   "metadata": {
    "tags": []
   },
   "outputs": [],
   "source": [
    "fl_pr_real_sf_ids = fl_products.SF_ACCOUNT_ID.str.replace('-.*', '', regex=True).dropna().unique().tolist()"
   ]
  },
  {
   "cell_type": "code",
   "execution_count": 150,
   "id": "da5a7b66-7432-4005-b5d5-1ebfe9ed8e95",
   "metadata": {
    "tags": []
   },
   "outputs": [
    {
     "data": {
      "text/plain": [
       "1126"
      ]
     },
     "execution_count": 150,
     "metadata": {},
     "output_type": "execute_result"
    }
   ],
   "source": [
    "len(fl_pr_real_sf_ids)"
   ]
  },
  {
   "cell_type": "markdown",
   "id": "a175bcb9-8985-41f8-ab49-3e2cb790a0c1",
   "metadata": {},
   "source": [
    "This reduces the number of unique Salesforce IDs from 1591 to 1126"
   ]
  },
  {
   "cell_type": "code",
   "execution_count": 151,
   "id": "20171c44-76b3-4c59-ba79-0c6812d76ed1",
   "metadata": {
    "tags": []
   },
   "outputs": [
    {
     "data": {
      "text/plain": [
       "13"
      ]
     },
     "execution_count": 151,
     "metadata": {},
     "output_type": "execute_result"
    }
   ],
   "source": [
    "len(set(fl_pr_real_sf_ids) - set(salesforce1.ACCOUNT_ID.dropna().unique().tolist()))"
   ]
  },
  {
   "cell_type": "markdown",
   "id": "585ce57b-87bf-4c22-b5f5-94c7eb5289de",
   "metadata": {},
   "source": [
    "After removing the additions to the Salesforce IDs, we find 13 in the Fastlane product report that are not present in Salesforce."
   ]
  },
  {
   "cell_type": "code",
   "execution_count": 152,
   "id": "7333e1bf-002f-4f6e-8cfa-8df08bfa605b",
   "metadata": {
    "tags": []
   },
   "outputs": [
    {
     "data": {
      "text/plain": [
       "{'0011M00002RIxlrQAD',\n",
       " '0011M00002ZrpD5QAJ',\n",
       " '0011MOQ002RHILKQAL',\n",
       " '0011MOQ002RHfBPQA1',\n",
       " '001A000000IktxRIAR',\n",
       " '001A000000IkugFIAR',\n",
       " '001G000001aICzCIAW',\n",
       " '001PLACEHOLDER11111',\n",
       " '001PLACEHOLDER11112',\n",
       " '001PLACEHOLDER99',\n",
       " '001TEST_ACCOUNT',\n",
       " '001V000000plchldr2',\n",
       " 'Carolina Caterpillar'}"
      ]
     },
     "execution_count": 152,
     "metadata": {},
     "output_type": "execute_result"
    }
   ],
   "source": [
    "set(fl_pr_real_sf_ids) - set(salesforce1.ACCOUNT_ID.dropna().unique().tolist())"
   ]
  },
  {
   "cell_type": "code",
   "execution_count": 153,
   "id": "0b835ee4-5fe9-449d-8d33-873722ee713b",
   "metadata": {
    "tags": []
   },
   "outputs": [
    {
     "data": {
      "text/plain": [
       "(59486,)"
      ]
     },
     "execution_count": 153,
     "metadata": {},
     "output_type": "execute_result"
    },
    {
     "data": {
      "text/plain": [
       "37078"
      ]
     },
     "execution_count": 153,
     "metadata": {},
     "output_type": "execute_result"
    }
   ],
   "source": [
    "fl_products.SF_ACCOUNT_ID.shape\n",
    "fl_products.SF_ACCOUNT_ID.isnull().sum()"
   ]
  },
  {
   "cell_type": "code",
   "execution_count": 154,
   "id": "dc6abcf3-4e8c-4a19-b47c-efc729101bbb",
   "metadata": {
    "tags": []
   },
   "outputs": [
    {
     "data": {
      "text/plain": [
       "(59486,)"
      ]
     },
     "execution_count": 154,
     "metadata": {},
     "output_type": "execute_result"
    },
    {
     "data": {
      "text/plain": [
       "32234"
      ]
     },
     "execution_count": 154,
     "metadata": {},
     "output_type": "execute_result"
    }
   ],
   "source": [
    "fl_products.CSR_USERNAME.shape\n",
    "fl_products.CSR_USERNAME.isnull().sum()"
   ]
  },
  {
   "cell_type": "code",
   "execution_count": 155,
   "id": "8b3b17f1-e6b5-40aa-84af-4391dab00cba",
   "metadata": {
    "tags": []
   },
   "outputs": [
    {
     "data": {
      "text/plain": [
       "(59486,)"
      ]
     },
     "execution_count": 155,
     "metadata": {},
     "output_type": "execute_result"
    },
    {
     "data": {
      "text/plain": [
       "32045"
      ]
     },
     "execution_count": 155,
     "metadata": {},
     "output_type": "execute_result"
    }
   ],
   "source": [
    "fl_products.ACCOUNT_NAME.shape\n",
    "fl_products.ACCOUNT_NAME.isnull().sum()"
   ]
  },
  {
   "cell_type": "code",
   "execution_count": 156,
   "id": "627170d2-0953-489e-ab50-7266b712373f",
   "metadata": {
    "tags": []
   },
   "outputs": [
    {
     "data": {
      "text/plain": [
       "(32045, 17)"
      ]
     },
     "execution_count": 156,
     "metadata": {},
     "output_type": "execute_result"
    }
   ],
   "source": [
    "fl_products[fl_products.CSR_USERNAME.isnull() & fl_products.SF_ACCOUNT_ID.isnull() & fl_products.ACCOUNT_NAME.isnull()].shape"
   ]
  },
  {
   "cell_type": "markdown",
   "id": "06cb4f56-af4a-40ca-998a-5b93936cd245",
   "metadata": {},
   "source": [
    "There are a ton of rows in this report that don't have any account ID (?!?)"
   ]
  },
  {
   "cell_type": "code",
   "execution_count": 157,
   "id": "28e86fb1-16cf-4587-9b1e-4f75237589b1",
   "metadata": {
    "tags": []
   },
   "outputs": [
    {
     "data": {
      "text/plain": [
       "3"
      ]
     },
     "execution_count": 157,
     "metadata": {},
     "output_type": "execute_result"
    }
   ],
   "source": [
    "len(set(fl_pr_csr_usernames) - all_csr_usernames)"
   ]
  },
  {
   "cell_type": "code",
   "execution_count": 158,
   "id": "8c4a955b-4c94-4392-86d6-1bd46002aeb8",
   "metadata": {
    "tags": []
   },
   "outputs": [
    {
     "name": "stdout",
     "output_type": "stream",
     "text": [
      "NEWCASTLEBUILDING, ROBERTSCONCRETE, TESTACCOUNTBP\n"
     ]
    }
   ],
   "source": [
    "mylist = list(set(fl_pr_csr_usernames) - all_csr_usernames)\n",
    "mylist.sort()\n",
    "print(*mylist, sep = \", \")"
   ]
  },
  {
   "cell_type": "markdown",
   "id": "e57d029d-d3fa-422e-9237-d28cf814d6c6",
   "metadata": {},
   "source": [
    "There are 3 CSR Usernames in this report that don't appear in the list of CSR Usernames from Salesforce, the Billing mapping, or CSR"
   ]
  },
  {
   "cell_type": "code",
   "execution_count": null,
   "id": "ede01488-4226-4c86-9155-ee2c61958d02",
   "metadata": {},
   "outputs": [],
   "source": []
  },
  {
   "cell_type": "markdown",
   "id": "757c188d-3c06-46ca-972e-7f71d605640e",
   "metadata": {},
   "source": [
    "### Tier Usage Report"
   ]
  },
  {
   "cell_type": "code",
   "execution_count": 159,
   "id": "646b5a09-801d-4053-9889-94e500702729",
   "metadata": {
    "tags": []
   },
   "outputs": [
    {
     "data": {
      "text/plain": [
       "(7000, 10)"
      ]
     },
     "execution_count": 159,
     "metadata": {},
     "output_type": "execute_result"
    }
   ],
   "source": [
    "fl_usage = pd.read_csv('CUSTOMER360.RAW.TIERUSAGE.csv')\n",
    "fl_usage.shape"
   ]
  },
  {
   "cell_type": "code",
   "execution_count": 160,
   "id": "b844a840-a5cf-463c-a122-c90074461b4f",
   "metadata": {
    "tags": []
   },
   "outputs": [
    {
     "data": {
      "text/plain": [
       "Index(['SERVICE_NAME', 'PRODUCT_FAMILY', 'BILLING_ID', 'USAGE_MONTH',\n",
       "       'USAGE_YEAR', 'MONTHLY_USAGE', 'PERIOD_TO_DATE_USAGE', 'TIER_ACHIEVED',\n",
       "       'SUB_MO_NO', 'LOADED_AT'],\n",
       "      dtype='object')"
      ]
     },
     "execution_count": 160,
     "metadata": {},
     "output_type": "execute_result"
    }
   ],
   "source": [
    "fl_usage.columns"
   ]
  },
  {
   "cell_type": "markdown",
   "id": "3dc792c6-06a7-4e98-92e4-6cc1c1d11dd1",
   "metadata": {},
   "source": [
    "The only identifier here is `BILLING_ID`, which I understand is the same as Intacct ID, close but not always the same as CSR Username"
   ]
  },
  {
   "cell_type": "code",
   "execution_count": 163,
   "id": "01902aec-159f-4b38-aa7f-73ab5e97e4cd",
   "metadata": {
    "tags": []
   },
   "outputs": [
    {
     "data": {
      "text/plain": [
       "765"
      ]
     },
     "execution_count": 163,
     "metadata": {},
     "output_type": "execute_result"
    },
    {
     "data": {
      "text/plain": [
       "0"
      ]
     },
     "execution_count": 163,
     "metadata": {},
     "output_type": "execute_result"
    }
   ],
   "source": [
    "fl_us_billing_ids = fl_usage.BILLING_ID.dropna().unique().tolist()\n",
    "len(fl_us_billing_ids)\n",
    "fl_usage.BILLING_ID.isnull().sum()"
   ]
  },
  {
   "cell_type": "markdown",
   "id": "48103226-3528-4924-8d3d-e7db6c1afecc",
   "metadata": {},
   "source": [
    "There is always a `BILLING_ID` here, and in the 7000 rows in the file we find 765 distinct `BILLING_ID`s"
   ]
  },
  {
   "cell_type": "code",
   "execution_count": 166,
   "id": "dc966dff-03d1-48fe-909f-45820705f919",
   "metadata": {
    "tags": []
   },
   "outputs": [
    {
     "data": {
      "text/plain": [
       "0"
      ]
     },
     "execution_count": 166,
     "metadata": {},
     "output_type": "execute_result"
    }
   ],
   "source": [
    "len(set(fl_us_billing_ids) - all_csr_usernames)"
   ]
  },
  {
   "cell_type": "markdown",
   "id": "0dcd80c2-fcfc-4072-9bc6-8ae69241332b",
   "metadata": {},
   "source": [
    "All these `BILLING_ID`s appear in the list of CSR Usernames we have from the other sources"
   ]
  },
  {
   "cell_type": "code",
   "execution_count": 170,
   "id": "49ebe3f9-27e1-4d31-bc5b-c9f5eb2df54e",
   "metadata": {},
   "outputs": [
    {
     "data": {
      "text/plain": [
       "8"
      ]
     },
     "execution_count": 170,
     "metadata": {},
     "output_type": "execute_result"
    },
    {
     "data": {
      "text/plain": [
       "{'ACUSHNETCA',\n",
       " 'CROWNKEYBANK',\n",
       " 'ERIEMATERIALS',\n",
       " 'FCXKEYBANK',\n",
       " 'MONDELEZWAREHOUSE',\n",
       " 'RHFOSTERCC',\n",
       " 'TMAG-CA',\n",
       " 'VANMETERINDUSTRIAL'}"
      ]
     },
     "execution_count": 170,
     "metadata": {},
     "output_type": "execute_result"
    }
   ],
   "source": [
    "len(set(fl_us_billing_ids) - set(salesforce_csr_usernames))\n",
    "set(fl_us_billing_ids) - set(salesforce_csr_usernames)"
   ]
  },
  {
   "cell_type": "code",
   "execution_count": 171,
   "id": "14862e41-36fa-4da6-af55-535ffcef934e",
   "metadata": {
    "tags": []
   },
   "outputs": [
    {
     "data": {
      "text/plain": [
       "5"
      ]
     },
     "execution_count": 171,
     "metadata": {},
     "output_type": "execute_result"
    },
    {
     "data": {
      "text/plain": [
       "{'CROWNKEYBANK', 'FCXKEYBANK', 'OAKH', 'STAPLES', 'WATERLOGIC'}"
      ]
     },
     "execution_count": 171,
     "metadata": {},
     "output_type": "execute_result"
    }
   ],
   "source": [
    "len(set(fl_us_billing_ids) - set(mapping_csr_usernames))\n",
    "set(fl_us_billing_ids) - set(mapping_csr_usernames)"
   ]
  },
  {
   "cell_type": "markdown",
   "id": "c9c53210-899d-4f57-aeb6-197c3faa5592",
   "metadata": {},
   "source": [
    "Yet not all of them are in Salesforce or the mapping from Billing"
   ]
  },
  {
   "cell_type": "code",
   "execution_count": null,
   "id": "9ede4af2-873b-4fc0-8afa-62a0e2b359d8",
   "metadata": {},
   "outputs": [],
   "source": []
  }
 ],
 "metadata": {
  "kernelspec": {
   "display_name": "Python (bdc)",
   "language": "python",
   "name": "bdc"
  },
  "language_info": {
   "codemirror_mode": {
    "name": "ipython",
    "version": 3
   },
   "file_extension": ".py",
   "mimetype": "text/x-python",
   "name": "python",
   "nbconvert_exporter": "python",
   "pygments_lexer": "ipython3",
   "version": "3.10.13"
  }
 },
 "nbformat": 4,
 "nbformat_minor": 5
}
